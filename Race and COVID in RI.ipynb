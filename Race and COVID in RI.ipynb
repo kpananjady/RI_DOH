{
 "cells": [
  {
   "cell_type": "markdown",
   "metadata": {},
   "source": [
    "# What this file does"
   ]
  },
  {
   "cell_type": "markdown",
   "metadata": {},
   "source": [
    "I compare data by race from the RI Dept of Health and census data on the demographics of Rhode Island. The goal is to see if the demographic breakdown of cases, hospitalizations and fatalities is representative of the population of the state.\n",
    "\n",
    "Data sources:\n",
    "\n",
    "RI DoH Data\n",
    "https://ri-department-of-health-covid-19-data-rihealth.hub.arcgis.com/\n",
    "\n",
    "American Community Survey 2018 5 year estimate\n",
    "https://data.census.gov/cedsci/table?q=Rhode%20Island%20population&g=0400000US44&hidePreview=true&tid=ACSDP5Y2018.DP05&vintage=2018&layer=VT_2018_040_00_PY_D1&cid=DP05_0001E\n",
    "\n",
    "Reporting notes: You'll need to clarify what Non-Hispanic Other means.\n",
    "You'll also want confirmation that all the percentages don't include unkown data, and confirm tha methodology below to adjust for that.\n",
    "\n",
    "Editorial notes: Here's one way to deal with the considerable abouts of missing data."
   ]
  },
  {
   "cell_type": "markdown",
   "metadata": {},
   "source": [
    "# File Index"
   ]
  },
  {
   "cell_type": "markdown",
   "metadata": {},
   "source": [
    "- Wrangling DoH data\n",
    "- Wrangling population\n",
    "- Understanding Census categories\n",
    "- Pulling the American Community Survey values we want\n",
    "- Adding population to our COVID data \n",
    "- How do you present these findings?\n",
    "- Adjusting data for missing values \n",
    "- Preparing data for visualization \n",
    "- The stacked bar chart \n",
    "- The bullet chart"
   ]
  },
  {
   "cell_type": "markdown",
   "metadata": {},
   "source": [
    "# Wrangling DoH data"
   ]
  },
  {
   "cell_type": "markdown",
   "metadata": {},
   "source": [
    "Major caveat with these percentages is on the RI DoH website: \"Percentages do not include cases with unknown or declined demographics or those that are pending further information.\" You basically can't convert these two raw numbers by multiplying into the total no of cases, hospitalities and fatalities. You also can't really write about this until you know just how many people they collected data from — you need to give readers an accurate idea of what the sample space is. Do they know the race of most of the people they're seeing? Half of them? It is important context for any analysis you do.\n",
    "\n",
    "If you want to automate pulling in this data, ask the graphics and interactives team to set up the Selenium scraping script  we discussed for you."
   ]
  },
  {
   "cell_type": "code",
   "execution_count": 2,
   "metadata": {},
   "outputs": [],
   "source": [
    "import pandas as pd\n",
    "import seaborn as sns\n",
    "import csv\n",
    "import matplotlib.pyplot as plt"
   ]
  },
  {
   "cell_type": "code",
   "execution_count": 3,
   "metadata": {},
   "outputs": [],
   "source": [
    "#read file in "
   ]
  },
  {
   "cell_type": "code",
   "execution_count": 4,
   "metadata": {},
   "outputs": [],
   "source": [
    "df_covid = pd.read_csv('DoH_by_race.csv')"
   ]
  },
  {
   "cell_type": "code",
   "execution_count": 5,
   "metadata": {},
   "outputs": [],
   "source": [
    "#these percentages seem to add up to 100 or near it — I would confirm that this is because of a rounding error, and that these four racial categories are disjoint and should add up to 100. "
   ]
  },
  {
   "cell_type": "code",
   "execution_count": 6,
   "metadata": {},
   "outputs": [
    {
     "data": {
      "text/html": [
       "<div>\n",
       "<style scoped>\n",
       "    .dataframe tbody tr th:only-of-type {\n",
       "        vertical-align: middle;\n",
       "    }\n",
       "\n",
       "    .dataframe tbody tr th {\n",
       "        vertical-align: top;\n",
       "    }\n",
       "\n",
       "    .dataframe thead th {\n",
       "        text-align: right;\n",
       "    }\n",
       "</style>\n",
       "<table border=\"1\" class=\"dataframe\">\n",
       "  <thead>\n",
       "    <tr style=\"text-align: right;\">\n",
       "      <th></th>\n",
       "      <th>Race</th>\n",
       "      <th>metric</th>\n",
       "      <th>percent</th>\n",
       "      <th>date</th>\n",
       "    </tr>\n",
       "  </thead>\n",
       "  <tbody>\n",
       "    <tr>\n",
       "      <td>0</td>\n",
       "      <td>Hispanic/Latinx (any race)</td>\n",
       "      <td>cases</td>\n",
       "      <td>43</td>\n",
       "      <td>04-28</td>\n",
       "    </tr>\n",
       "    <tr>\n",
       "      <td>1</td>\n",
       "      <td>Non-Hispanic black/African American</td>\n",
       "      <td>cases</td>\n",
       "      <td>13</td>\n",
       "      <td>04-28</td>\n",
       "    </tr>\n",
       "    <tr>\n",
       "      <td>2</td>\n",
       "      <td>Non-Hispanic white</td>\n",
       "      <td>cases</td>\n",
       "      <td>39</td>\n",
       "      <td>04-28</td>\n",
       "    </tr>\n",
       "    <tr>\n",
       "      <td>3</td>\n",
       "      <td>Non-Hispanic other</td>\n",
       "      <td>cases</td>\n",
       "      <td>4</td>\n",
       "      <td>04-28</td>\n",
       "    </tr>\n",
       "    <tr>\n",
       "      <td>4</td>\n",
       "      <td>Hispanic/Latinx (any race)</td>\n",
       "      <td>hospitalizations</td>\n",
       "      <td>33</td>\n",
       "      <td>04-28</td>\n",
       "    </tr>\n",
       "    <tr>\n",
       "      <td>5</td>\n",
       "      <td>Non-Hispanic black/African American</td>\n",
       "      <td>hospitalizations</td>\n",
       "      <td>13</td>\n",
       "      <td>04-28</td>\n",
       "    </tr>\n",
       "    <tr>\n",
       "      <td>6</td>\n",
       "      <td>Non-Hispanic white</td>\n",
       "      <td>hospitalizations</td>\n",
       "      <td>50</td>\n",
       "      <td>04-28</td>\n",
       "    </tr>\n",
       "    <tr>\n",
       "      <td>7</td>\n",
       "      <td>Non-Hispanic other</td>\n",
       "      <td>hospitalizations</td>\n",
       "      <td>4</td>\n",
       "      <td>04-28</td>\n",
       "    </tr>\n",
       "    <tr>\n",
       "      <td>8</td>\n",
       "      <td>Hispanic/Latinx (any race)</td>\n",
       "      <td>fatalities</td>\n",
       "      <td>12</td>\n",
       "      <td>04-28</td>\n",
       "    </tr>\n",
       "    <tr>\n",
       "      <td>9</td>\n",
       "      <td>Non-Hispanic black/African American</td>\n",
       "      <td>fatalities</td>\n",
       "      <td>7</td>\n",
       "      <td>04-28</td>\n",
       "    </tr>\n",
       "    <tr>\n",
       "      <td>10</td>\n",
       "      <td>Non-Hispanic white</td>\n",
       "      <td>fatalities</td>\n",
       "      <td>80</td>\n",
       "      <td>04-28</td>\n",
       "    </tr>\n",
       "    <tr>\n",
       "      <td>11</td>\n",
       "      <td>Non-Hispanic other</td>\n",
       "      <td>fatalities</td>\n",
       "      <td>0</td>\n",
       "      <td>04-28</td>\n",
       "    </tr>\n",
       "  </tbody>\n",
       "</table>\n",
       "</div>"
      ],
      "text/plain": [
       "                                   Race            metric  percent   date\n",
       "0            Hispanic/Latinx (any race)             cases       43  04-28\n",
       "1   Non-Hispanic black/African American             cases       13  04-28\n",
       "2                    Non-Hispanic white             cases       39  04-28\n",
       "3                    Non-Hispanic other             cases        4  04-28\n",
       "4            Hispanic/Latinx (any race)  hospitalizations       33  04-28\n",
       "5   Non-Hispanic black/African American  hospitalizations       13  04-28\n",
       "6                    Non-Hispanic white  hospitalizations       50  04-28\n",
       "7                    Non-Hispanic other  hospitalizations        4  04-28\n",
       "8            Hispanic/Latinx (any race)        fatalities       12  04-28\n",
       "9   Non-Hispanic black/African American        fatalities        7  04-28\n",
       "10                   Non-Hispanic white        fatalities       80  04-28\n",
       "11                   Non-Hispanic other        fatalities        0  04-28"
      ]
     },
     "execution_count": 6,
     "metadata": {},
     "output_type": "execute_result"
    }
   ],
   "source": [
    "df_covid"
   ]
  },
  {
   "cell_type": "code",
   "execution_count": 7,
   "metadata": {},
   "outputs": [],
   "source": [
    "#a pie chart might work better here, except I'd like confirmation that 1) these are disjoint categories and should add up to 100 and 2) I'm worried that Non-Hispanic other will disappear bc it's so small"
   ]
  },
  {
   "cell_type": "code",
   "execution_count": 8,
   "metadata": {},
   "outputs": [
    {
     "data": {
      "text/plain": [
       "Text(0, 1, '04-28')"
      ]
     },
     "execution_count": 8,
     "metadata": {},
     "output_type": "execute_result"
    },
    {
     "data": {
      "image/png": "[encoded data removed]",
      "text/plain": [
       "<Figure size 1085.5x288 with 3 Axes>"
      ]
     },
     "metadata": {
      "needs_background": "light"
     },
     "output_type": "display_data"
    }
   ],
   "source": [
    "g = sns.catplot(y=\"Race\", x=\"percent\",\n",
    "                hue=\"Race\", col=\"metric\",orient=\"h\",\n",
    "                data=df_covid, kind=\"bar\",\n",
    "                height=4, dodge = False, palette=sns.color_palette(\"Set2\", n_colors=4))\n",
    "g.fig.suptitle(df_covid['date'].any(), x=0, y=1)"
   ]
  },
  {
   "cell_type": "markdown",
   "metadata": {},
   "source": [
    "# Wrangling population"
   ]
  },
  {
   "cell_type": "markdown",
   "metadata": {},
   "source": [
    "The American Community Survey is conducted every year by the Census Bureau. Unlike the census, it doesn't try to count everyone, but uses sampling. That's why you typically never look at the ACS in just one year; the error margins are too large. Instead, you use estimates over a three or five year period. Here, I used 2014-2018. \n",
    "\n",
    "For more into on this: https://www.census.gov/programs-surveys/acs/guidance/estimates.html"
   ]
  },
  {
   "cell_type": "code",
   "execution_count": 9,
   "metadata": {},
   "outputs": [],
   "source": [
    "#file with fields"
   ]
  },
  {
   "cell_type": "code",
   "execution_count": 10,
   "metadata": {},
   "outputs": [],
   "source": [
    "df_population_metadata = pd.read_csv('ACSDP5Y2018.DP05_metadata_2020-04-27T161549.csv')"
   ]
  },
  {
   "cell_type": "code",
   "execution_count": 11,
   "metadata": {},
   "outputs": [],
   "source": [
    "#fields that mention Hispanic"
   ]
  },
  {
   "cell_type": "code",
   "execution_count": 12,
   "metadata": {},
   "outputs": [
    {
     "data": {
      "text/html": [
       "<div>\n",
       "<style scoped>\n",
       "    .dataframe tbody tr th:only-of-type {\n",
       "        vertical-align: middle;\n",
       "    }\n",
       "\n",
       "    .dataframe tbody tr th {\n",
       "        vertical-align: top;\n",
       "    }\n",
       "\n",
       "    .dataframe thead th {\n",
       "        text-align: right;\n",
       "    }\n",
       "</style>\n",
       "<table border=\"1\" class=\"dataframe\">\n",
       "  <thead>\n",
       "    <tr style=\"text-align: right;\">\n",
       "      <th></th>\n",
       "      <th>GEO_ID</th>\n",
       "      <th>id</th>\n",
       "      <th>Unnamed: 2</th>\n",
       "    </tr>\n",
       "  </thead>\n",
       "  <tbody>\n",
       "    <tr>\n",
       "      <td>281</td>\n",
       "      <td>DP05_0071E</td>\n",
       "      <td>Estimate!!HISPANIC OR LATINO AND RACE!!Total p...</td>\n",
       "      <td>NaN</td>\n",
       "    </tr>\n",
       "    <tr>\n",
       "      <td>282</td>\n",
       "      <td>DP05_0071M</td>\n",
       "      <td>Margin of Error!!HISPANIC OR LATINO AND RACE!!...</td>\n",
       "      <td>NaN</td>\n",
       "    </tr>\n",
       "    <tr>\n",
       "      <td>283</td>\n",
       "      <td>DP05_0071PE</td>\n",
       "      <td>Percent Estimate!!HISPANIC OR LATINO AND RACE!...</td>\n",
       "      <td>NaN</td>\n",
       "    </tr>\n",
       "    <tr>\n",
       "      <td>284</td>\n",
       "      <td>DP05_0071PM</td>\n",
       "      <td>Percent Margin of Error!!HISPANIC OR LATINO AN...</td>\n",
       "      <td>NaN</td>\n",
       "    </tr>\n",
       "    <tr>\n",
       "      <td>285</td>\n",
       "      <td>DP05_0072E</td>\n",
       "      <td>Estimate!!HISPANIC OR LATINO AND RACE!!Total p...</td>\n",
       "      <td>NaN</td>\n",
       "    </tr>\n",
       "    <tr>\n",
       "      <td>286</td>\n",
       "      <td>DP05_0072M</td>\n",
       "      <td>Margin of Error!!HISPANIC OR LATINO AND RACE!!...</td>\n",
       "      <td>NaN</td>\n",
       "    </tr>\n",
       "    <tr>\n",
       "      <td>287</td>\n",
       "      <td>DP05_0072PE</td>\n",
       "      <td>Percent Estimate!!HISPANIC OR LATINO AND RACE!...</td>\n",
       "      <td>NaN</td>\n",
       "    </tr>\n",
       "    <tr>\n",
       "      <td>288</td>\n",
       "      <td>DP05_0072PM</td>\n",
       "      <td>Percent Margin of Error!!HISPANIC OR LATINO AN...</td>\n",
       "      <td>NaN</td>\n",
       "    </tr>\n",
       "    <tr>\n",
       "      <td>289</td>\n",
       "      <td>DP05_0073E</td>\n",
       "      <td>Estimate!!HISPANIC OR LATINO AND RACE!!Total p...</td>\n",
       "      <td>NaN</td>\n",
       "    </tr>\n",
       "    <tr>\n",
       "      <td>290</td>\n",
       "      <td>DP05_0073M</td>\n",
       "      <td>Margin of Error!!HISPANIC OR LATINO AND RACE!!...</td>\n",
       "      <td>NaN</td>\n",
       "    </tr>\n",
       "    <tr>\n",
       "      <td>291</td>\n",
       "      <td>DP05_0073PE</td>\n",
       "      <td>Percent Estimate!!HISPANIC OR LATINO AND RACE!...</td>\n",
       "      <td>NaN</td>\n",
       "    </tr>\n",
       "    <tr>\n",
       "      <td>292</td>\n",
       "      <td>DP05_0073PM</td>\n",
       "      <td>Percent Margin of Error!!HISPANIC OR LATINO AN...</td>\n",
       "      <td>NaN</td>\n",
       "    </tr>\n",
       "    <tr>\n",
       "      <td>293</td>\n",
       "      <td>DP05_0074E</td>\n",
       "      <td>Estimate!!HISPANIC OR LATINO AND RACE!!Total p...</td>\n",
       "      <td>NaN</td>\n",
       "    </tr>\n",
       "    <tr>\n",
       "      <td>294</td>\n",
       "      <td>DP05_0074M</td>\n",
       "      <td>Margin of Error!!HISPANIC OR LATINO AND RACE!!...</td>\n",
       "      <td>NaN</td>\n",
       "    </tr>\n",
       "    <tr>\n",
       "      <td>295</td>\n",
       "      <td>DP05_0074PE</td>\n",
       "      <td>Percent Estimate!!HISPANIC OR LATINO AND RACE!...</td>\n",
       "      <td>NaN</td>\n",
       "    </tr>\n",
       "    <tr>\n",
       "      <td>296</td>\n",
       "      <td>DP05_0074PM</td>\n",
       "      <td>Percent Margin of Error!!HISPANIC OR LATINO AN...</td>\n",
       "      <td>NaN</td>\n",
       "    </tr>\n",
       "    <tr>\n",
       "      <td>297</td>\n",
       "      <td>DP05_0075E</td>\n",
       "      <td>Estimate!!HISPANIC OR LATINO AND RACE!!Total p...</td>\n",
       "      <td>NaN</td>\n",
       "    </tr>\n",
       "    <tr>\n",
       "      <td>298</td>\n",
       "      <td>DP05_0075M</td>\n",
       "      <td>Margin of Error!!HISPANIC OR LATINO AND RACE!!...</td>\n",
       "      <td>NaN</td>\n",
       "    </tr>\n",
       "    <tr>\n",
       "      <td>299</td>\n",
       "      <td>DP05_0075PE</td>\n",
       "      <td>Percent Estimate!!HISPANIC OR LATINO AND RACE!...</td>\n",
       "      <td>NaN</td>\n",
       "    </tr>\n",
       "    <tr>\n",
       "      <td>300</td>\n",
       "      <td>DP05_0075PM</td>\n",
       "      <td>Percent Margin of Error!!HISPANIC OR LATINO AN...</td>\n",
       "      <td>NaN</td>\n",
       "    </tr>\n",
       "    <tr>\n",
       "      <td>301</td>\n",
       "      <td>DP05_0076E</td>\n",
       "      <td>Estimate!!HISPANIC OR LATINO AND RACE!!Total p...</td>\n",
       "      <td>NaN</td>\n",
       "    </tr>\n",
       "    <tr>\n",
       "      <td>302</td>\n",
       "      <td>DP05_0076M</td>\n",
       "      <td>Margin of Error!!HISPANIC OR LATINO AND RACE!!...</td>\n",
       "      <td>NaN</td>\n",
       "    </tr>\n",
       "    <tr>\n",
       "      <td>303</td>\n",
       "      <td>DP05_0076PE</td>\n",
       "      <td>Percent Estimate!!HISPANIC OR LATINO AND RACE!...</td>\n",
       "      <td>NaN</td>\n",
       "    </tr>\n",
       "    <tr>\n",
       "      <td>304</td>\n",
       "      <td>DP05_0076PM</td>\n",
       "      <td>Percent Margin of Error!!HISPANIC OR LATINO AN...</td>\n",
       "      <td>NaN</td>\n",
       "    </tr>\n",
       "    <tr>\n",
       "      <td>305</td>\n",
       "      <td>DP05_0077E</td>\n",
       "      <td>Estimate!!HISPANIC OR LATINO AND RACE!!Total p...</td>\n",
       "      <td>NaN</td>\n",
       "    </tr>\n",
       "    <tr>\n",
       "      <td>306</td>\n",
       "      <td>DP05_0077M</td>\n",
       "      <td>Margin of Error!!HISPANIC OR LATINO AND RACE!!...</td>\n",
       "      <td>NaN</td>\n",
       "    </tr>\n",
       "    <tr>\n",
       "      <td>307</td>\n",
       "      <td>DP05_0077PE</td>\n",
       "      <td>Percent Estimate!!HISPANIC OR LATINO AND RACE!...</td>\n",
       "      <td>NaN</td>\n",
       "    </tr>\n",
       "    <tr>\n",
       "      <td>308</td>\n",
       "      <td>DP05_0077PM</td>\n",
       "      <td>Percent Margin of Error!!HISPANIC OR LATINO AN...</td>\n",
       "      <td>NaN</td>\n",
       "    </tr>\n",
       "    <tr>\n",
       "      <td>309</td>\n",
       "      <td>DP05_0078E</td>\n",
       "      <td>Estimate!!HISPANIC OR LATINO AND RACE!!Total p...</td>\n",
       "      <td>NaN</td>\n",
       "    </tr>\n",
       "    <tr>\n",
       "      <td>310</td>\n",
       "      <td>DP05_0078M</td>\n",
       "      <td>Margin of Error!!HISPANIC OR LATINO AND RACE!!...</td>\n",
       "      <td>NaN</td>\n",
       "    </tr>\n",
       "    <tr>\n",
       "      <td>311</td>\n",
       "      <td>DP05_0078PE</td>\n",
       "      <td>Percent Estimate!!HISPANIC OR LATINO AND RACE!...</td>\n",
       "      <td>NaN</td>\n",
       "    </tr>\n",
       "    <tr>\n",
       "      <td>312</td>\n",
       "      <td>DP05_0078PM</td>\n",
       "      <td>Percent Margin of Error!!HISPANIC OR LATINO AN...</td>\n",
       "      <td>NaN</td>\n",
       "    </tr>\n",
       "    <tr>\n",
       "      <td>313</td>\n",
       "      <td>DP05_0079E</td>\n",
       "      <td>Estimate!!HISPANIC OR LATINO AND RACE!!Total p...</td>\n",
       "      <td>NaN</td>\n",
       "    </tr>\n",
       "    <tr>\n",
       "      <td>314</td>\n",
       "      <td>DP05_0079M</td>\n",
       "      <td>Margin of Error!!HISPANIC OR LATINO AND RACE!!...</td>\n",
       "      <td>NaN</td>\n",
       "    </tr>\n",
       "    <tr>\n",
       "      <td>315</td>\n",
       "      <td>DP05_0079PE</td>\n",
       "      <td>Percent Estimate!!HISPANIC OR LATINO AND RACE!...</td>\n",
       "      <td>NaN</td>\n",
       "    </tr>\n",
       "    <tr>\n",
       "      <td>316</td>\n",
       "      <td>DP05_0079PM</td>\n",
       "      <td>Percent Margin of Error!!HISPANIC OR LATINO AN...</td>\n",
       "      <td>NaN</td>\n",
       "    </tr>\n",
       "    <tr>\n",
       "      <td>317</td>\n",
       "      <td>DP05_0080E</td>\n",
       "      <td>Estimate!!HISPANIC OR LATINO AND RACE!!Total p...</td>\n",
       "      <td>NaN</td>\n",
       "    </tr>\n",
       "    <tr>\n",
       "      <td>318</td>\n",
       "      <td>DP05_0080M</td>\n",
       "      <td>Margin of Error!!HISPANIC OR LATINO AND RACE!!...</td>\n",
       "      <td>NaN</td>\n",
       "    </tr>\n",
       "    <tr>\n",
       "      <td>319</td>\n",
       "      <td>DP05_0080PE</td>\n",
       "      <td>Percent Estimate!!HISPANIC OR LATINO AND RACE!...</td>\n",
       "      <td>NaN</td>\n",
       "    </tr>\n",
       "    <tr>\n",
       "      <td>320</td>\n",
       "      <td>DP05_0080PM</td>\n",
       "      <td>Percent Margin of Error!!HISPANIC OR LATINO AN...</td>\n",
       "      <td>NaN</td>\n",
       "    </tr>\n",
       "    <tr>\n",
       "      <td>321</td>\n",
       "      <td>DP05_0081E</td>\n",
       "      <td>Estimate!!HISPANIC OR LATINO AND RACE!!Total p...</td>\n",
       "      <td>NaN</td>\n",
       "    </tr>\n",
       "    <tr>\n",
       "      <td>322</td>\n",
       "      <td>DP05_0081M</td>\n",
       "      <td>Margin of Error!!HISPANIC OR LATINO AND RACE!!...</td>\n",
       "      <td>NaN</td>\n",
       "    </tr>\n",
       "    <tr>\n",
       "      <td>323</td>\n",
       "      <td>DP05_0081PE</td>\n",
       "      <td>Percent Estimate!!HISPANIC OR LATINO AND RACE!...</td>\n",
       "      <td>NaN</td>\n",
       "    </tr>\n",
       "    <tr>\n",
       "      <td>324</td>\n",
       "      <td>DP05_0081PM</td>\n",
       "      <td>Percent Margin of Error!!HISPANIC OR LATINO AN...</td>\n",
       "      <td>NaN</td>\n",
       "    </tr>\n",
       "    <tr>\n",
       "      <td>325</td>\n",
       "      <td>DP05_0082E</td>\n",
       "      <td>Estimate!!HISPANIC OR LATINO AND RACE!!Total p...</td>\n",
       "      <td>NaN</td>\n",
       "    </tr>\n",
       "    <tr>\n",
       "      <td>326</td>\n",
       "      <td>DP05_0082M</td>\n",
       "      <td>Margin of Error!!HISPANIC OR LATINO AND RACE!!...</td>\n",
       "      <td>NaN</td>\n",
       "    </tr>\n",
       "    <tr>\n",
       "      <td>327</td>\n",
       "      <td>DP05_0082PE</td>\n",
       "      <td>Percent Estimate!!HISPANIC OR LATINO AND RACE!...</td>\n",
       "      <td>NaN</td>\n",
       "    </tr>\n",
       "    <tr>\n",
       "      <td>328</td>\n",
       "      <td>DP05_0082PM</td>\n",
       "      <td>Percent Margin of Error!!HISPANIC OR LATINO AN...</td>\n",
       "      <td>NaN</td>\n",
       "    </tr>\n",
       "    <tr>\n",
       "      <td>329</td>\n",
       "      <td>DP05_0083E</td>\n",
       "      <td>Estimate!!HISPANIC OR LATINO AND RACE!!Total p...</td>\n",
       "      <td>NaN</td>\n",
       "    </tr>\n",
       "    <tr>\n",
       "      <td>330</td>\n",
       "      <td>DP05_0083M</td>\n",
       "      <td>Margin of Error!!HISPANIC OR LATINO AND RACE!!...</td>\n",
       "      <td>NaN</td>\n",
       "    </tr>\n",
       "    <tr>\n",
       "      <td>331</td>\n",
       "      <td>DP05_0083PE</td>\n",
       "      <td>Percent Estimate!!HISPANIC OR LATINO AND RACE!...</td>\n",
       "      <td>NaN</td>\n",
       "    </tr>\n",
       "    <tr>\n",
       "      <td>332</td>\n",
       "      <td>DP05_0083PM</td>\n",
       "      <td>Percent Margin of Error!!HISPANIC OR LATINO AN...</td>\n",
       "      <td>NaN</td>\n",
       "    </tr>\n",
       "    <tr>\n",
       "      <td>333</td>\n",
       "      <td>DP05_0084E</td>\n",
       "      <td>Estimate!!HISPANIC OR LATINO AND RACE!!Total p...</td>\n",
       "      <td>NaN</td>\n",
       "    </tr>\n",
       "    <tr>\n",
       "      <td>334</td>\n",
       "      <td>DP05_0084M</td>\n",
       "      <td>Margin of Error!!HISPANIC OR LATINO AND RACE!!...</td>\n",
       "      <td>NaN</td>\n",
       "    </tr>\n",
       "    <tr>\n",
       "      <td>335</td>\n",
       "      <td>DP05_0084PE</td>\n",
       "      <td>Percent Estimate!!HISPANIC OR LATINO AND RACE!...</td>\n",
       "      <td>NaN</td>\n",
       "    </tr>\n",
       "    <tr>\n",
       "      <td>336</td>\n",
       "      <td>DP05_0084PM</td>\n",
       "      <td>Percent Margin of Error!!HISPANIC OR LATINO AN...</td>\n",
       "      <td>NaN</td>\n",
       "    </tr>\n",
       "    <tr>\n",
       "      <td>337</td>\n",
       "      <td>DP05_0085E</td>\n",
       "      <td>Estimate!!HISPANIC OR LATINO AND RACE!!Total p...</td>\n",
       "      <td>NaN</td>\n",
       "    </tr>\n",
       "    <tr>\n",
       "      <td>338</td>\n",
       "      <td>DP05_0085M</td>\n",
       "      <td>Margin of Error!!HISPANIC OR LATINO AND RACE!!...</td>\n",
       "      <td>NaN</td>\n",
       "    </tr>\n",
       "    <tr>\n",
       "      <td>339</td>\n",
       "      <td>DP05_0085PE</td>\n",
       "      <td>Percent Estimate!!HISPANIC OR LATINO AND RACE!...</td>\n",
       "      <td>NaN</td>\n",
       "    </tr>\n",
       "    <tr>\n",
       "      <td>340</td>\n",
       "      <td>DP05_0085PM</td>\n",
       "      <td>Percent Margin of Error!!HISPANIC OR LATINO AN...</td>\n",
       "      <td>NaN</td>\n",
       "    </tr>\n",
       "  </tbody>\n",
       "</table>\n",
       "</div>"
      ],
      "text/plain": [
       "          GEO_ID                                                 id  \\\n",
       "281   DP05_0071E  Estimate!!HISPANIC OR LATINO AND RACE!!Total p...   \n",
       "282   DP05_0071M  Margin of Error!!HISPANIC OR LATINO AND RACE!!...   \n",
       "283  DP05_0071PE  Percent Estimate!!HISPANIC OR LATINO AND RACE!...   \n",
       "284  DP05_0071PM  Percent Margin of Error!!HISPANIC OR LATINO AN...   \n",
       "285   DP05_0072E  Estimate!!HISPANIC OR LATINO AND RACE!!Total p...   \n",
       "286   DP05_0072M  Margin of Error!!HISPANIC OR LATINO AND RACE!!...   \n",
       "287  DP05_0072PE  Percent Estimate!!HISPANIC OR LATINO AND RACE!...   \n",
       "288  DP05_0072PM  Percent Margin of Error!!HISPANIC OR LATINO AN...   \n",
       "289   DP05_0073E  Estimate!!HISPANIC OR LATINO AND RACE!!Total p...   \n",
       "290   DP05_0073M  Margin of Error!!HISPANIC OR LATINO AND RACE!!...   \n",
       "291  DP05_0073PE  Percent Estimate!!HISPANIC OR LATINO AND RACE!...   \n",
       "292  DP05_0073PM  Percent Margin of Error!!HISPANIC OR LATINO AN...   \n",
       "293   DP05_0074E  Estimate!!HISPANIC OR LATINO AND RACE!!Total p...   \n",
       "294   DP05_0074M  Margin of Error!!HISPANIC OR LATINO AND RACE!!...   \n",
       "295  DP05_0074PE  Percent Estimate!!HISPANIC OR LATINO AND RACE!...   \n",
       "296  DP05_0074PM  Percent Margin of Error!!HISPANIC OR LATINO AN...   \n",
       "297   DP05_0075E  Estimate!!HISPANIC OR LATINO AND RACE!!Total p...   \n",
       "298   DP05_0075M  Margin of Error!!HISPANIC OR LATINO AND RACE!!...   \n",
       "299  DP05_0075PE  Percent Estimate!!HISPANIC OR LATINO AND RACE!...   \n",
       "300  DP05_0075PM  Percent Margin of Error!!HISPANIC OR LATINO AN...   \n",
       "301   DP05_0076E  Estimate!!HISPANIC OR LATINO AND RACE!!Total p...   \n",
       "302   DP05_0076M  Margin of Error!!HISPANIC OR LATINO AND RACE!!...   \n",
       "303  DP05_0076PE  Percent Estimate!!HISPANIC OR LATINO AND RACE!...   \n",
       "304  DP05_0076PM  Percent Margin of Error!!HISPANIC OR LATINO AN...   \n",
       "305   DP05_0077E  Estimate!!HISPANIC OR LATINO AND RACE!!Total p...   \n",
       "306   DP05_0077M  Margin of Error!!HISPANIC OR LATINO AND RACE!!...   \n",
       "307  DP05_0077PE  Percent Estimate!!HISPANIC OR LATINO AND RACE!...   \n",
       "308  DP05_0077PM  Percent Margin of Error!!HISPANIC OR LATINO AN...   \n",
       "309   DP05_0078E  Estimate!!HISPANIC OR LATINO AND RACE!!Total p...   \n",
       "310   DP05_0078M  Margin of Error!!HISPANIC OR LATINO AND RACE!!...   \n",
       "311  DP05_0078PE  Percent Estimate!!HISPANIC OR LATINO AND RACE!...   \n",
       "312  DP05_0078PM  Percent Margin of Error!!HISPANIC OR LATINO AN...   \n",
       "313   DP05_0079E  Estimate!!HISPANIC OR LATINO AND RACE!!Total p...   \n",
       "314   DP05_0079M  Margin of Error!!HISPANIC OR LATINO AND RACE!!...   \n",
       "315  DP05_0079PE  Percent Estimate!!HISPANIC OR LATINO AND RACE!...   \n",
       "316  DP05_0079PM  Percent Margin of Error!!HISPANIC OR LATINO AN...   \n",
       "317   DP05_0080E  Estimate!!HISPANIC OR LATINO AND RACE!!Total p...   \n",
       "318   DP05_0080M  Margin of Error!!HISPANIC OR LATINO AND RACE!!...   \n",
       "319  DP05_0080PE  Percent Estimate!!HISPANIC OR LATINO AND RACE!...   \n",
       "320  DP05_0080PM  Percent Margin of Error!!HISPANIC OR LATINO AN...   \n",
       "321   DP05_0081E  Estimate!!HISPANIC OR LATINO AND RACE!!Total p...   \n",
       "322   DP05_0081M  Margin of Error!!HISPANIC OR LATINO AND RACE!!...   \n",
       "323  DP05_0081PE  Percent Estimate!!HISPANIC OR LATINO AND RACE!...   \n",
       "324  DP05_0081PM  Percent Margin of Error!!HISPANIC OR LATINO AN...   \n",
       "325   DP05_0082E  Estimate!!HISPANIC OR LATINO AND RACE!!Total p...   \n",
       "326   DP05_0082M  Margin of Error!!HISPANIC OR LATINO AND RACE!!...   \n",
       "327  DP05_0082PE  Percent Estimate!!HISPANIC OR LATINO AND RACE!...   \n",
       "328  DP05_0082PM  Percent Margin of Error!!HISPANIC OR LATINO AN...   \n",
       "329   DP05_0083E  Estimate!!HISPANIC OR LATINO AND RACE!!Total p...   \n",
       "330   DP05_0083M  Margin of Error!!HISPANIC OR LATINO AND RACE!!...   \n",
       "331  DP05_0083PE  Percent Estimate!!HISPANIC OR LATINO AND RACE!...   \n",
       "332  DP05_0083PM  Percent Margin of Error!!HISPANIC OR LATINO AN...   \n",
       "333   DP05_0084E  Estimate!!HISPANIC OR LATINO AND RACE!!Total p...   \n",
       "334   DP05_0084M  Margin of Error!!HISPANIC OR LATINO AND RACE!!...   \n",
       "335  DP05_0084PE  Percent Estimate!!HISPANIC OR LATINO AND RACE!...   \n",
       "336  DP05_0084PM  Percent Margin of Error!!HISPANIC OR LATINO AN...   \n",
       "337   DP05_0085E  Estimate!!HISPANIC OR LATINO AND RACE!!Total p...   \n",
       "338   DP05_0085M  Margin of Error!!HISPANIC OR LATINO AND RACE!!...   \n",
       "339  DP05_0085PE  Percent Estimate!!HISPANIC OR LATINO AND RACE!...   \n",
       "340  DP05_0085PM  Percent Margin of Error!!HISPANIC OR LATINO AN...   \n",
       "\n",
       "     Unnamed: 2  \n",
       "281         NaN  \n",
       "282         NaN  \n",
       "283         NaN  \n",
       "284         NaN  \n",
       "285         NaN  \n",
       "286         NaN  \n",
       "287         NaN  \n",
       "288         NaN  \n",
       "289         NaN  \n",
       "290         NaN  \n",
       "291         NaN  \n",
       "292         NaN  \n",
       "293         NaN  \n",
       "294         NaN  \n",
       "295         NaN  \n",
       "296         NaN  \n",
       "297         NaN  \n",
       "298         NaN  \n",
       "299         NaN  \n",
       "300         NaN  \n",
       "301         NaN  \n",
       "302         NaN  \n",
       "303         NaN  \n",
       "304         NaN  \n",
       "305         NaN  \n",
       "306         NaN  \n",
       "307         NaN  \n",
       "308         NaN  \n",
       "309         NaN  \n",
       "310         NaN  \n",
       "311         NaN  \n",
       "312         NaN  \n",
       "313         NaN  \n",
       "314         NaN  \n",
       "315         NaN  \n",
       "316         NaN  \n",
       "317         NaN  \n",
       "318         NaN  \n",
       "319         NaN  \n",
       "320         NaN  \n",
       "321         NaN  \n",
       "322         NaN  \n",
       "323         NaN  \n",
       "324         NaN  \n",
       "325         NaN  \n",
       "326         NaN  \n",
       "327         NaN  \n",
       "328         NaN  \n",
       "329         NaN  \n",
       "330         NaN  \n",
       "331         NaN  \n",
       "332         NaN  \n",
       "333         NaN  \n",
       "334         NaN  \n",
       "335         NaN  \n",
       "336         NaN  \n",
       "337         NaN  \n",
       "338         NaN  \n",
       "339         NaN  \n",
       "340         NaN  "
      ]
     },
     "execution_count": 12,
     "metadata": {},
     "output_type": "execute_result"
    }
   ],
   "source": [
    "df_population_metadata[df_population_metadata['id'].str.contains('Hispanic')==True]"
   ]
  },
  {
   "cell_type": "code",
   "execution_count": 13,
   "metadata": {},
   "outputs": [],
   "source": [
    "#read in ACS 2018 5 year estimate"
   ]
  },
  {
   "cell_type": "code",
   "execution_count": 14,
   "metadata": {},
   "outputs": [],
   "source": [
    "df_population = pd.read_csv('ACSDP5Y2018.DP05_data_with_overlays_2020-04-27T161549.csv')"
   ]
  },
  {
   "cell_type": "markdown",
   "metadata": {},
   "source": [
    "# Understanding Census categories\n"
   ]
  },
  {
   "cell_type": "markdown",
   "metadata": {},
   "source": [
    "You don't want to look for \"RACE\"'; you want to look for \"HISPANIC OR LATINO AND RACE\". This is broken down into \n",
    "\n",
    "- Hispanic or Latino (of any race)\n",
    "- Not Hispanic or Latino \n",
    "\n",
    "The sum of the percentages in each case add up to 100. In this case, its 15 percent and 85 percent respectively.\n"
   ]
  },
  {
   "cell_type": "code",
   "execution_count": 15,
   "metadata": {},
   "outputs": [
    {
     "data": {
      "text/plain": [
       "0    Percent Estimate!!HISPANIC OR LATINO AND RACE!...\n",
       "1                                                 15.0\n",
       "Name: DP05_0071PE, dtype: object"
      ]
     },
     "execution_count": 15,
     "metadata": {},
     "output_type": "execute_result"
    }
   ],
   "source": [
    "#\"DP05_0071PE\",\"Percent Estimate!!HISPANIC OR LATINO AND RACE!!Total population!!Hispanic or Latino (of any race)\",\n",
    "df_population['DP05_0071PE']"
   ]
  },
  {
   "cell_type": "code",
   "execution_count": 16,
   "metadata": {},
   "outputs": [],
   "source": [
    "percent_hispanic = float(df_population['DP05_0071PE'][1])"
   ]
  },
  {
   "cell_type": "code",
   "execution_count": 17,
   "metadata": {},
   "outputs": [
    {
     "data": {
      "text/plain": [
       "0    Percent Estimate!!HISPANIC OR LATINO AND RACE!...\n",
       "1                                                 85.0\n",
       "Name: DP05_0076PE, dtype: object"
      ]
     },
     "execution_count": 17,
     "metadata": {},
     "output_type": "execute_result"
    }
   ],
   "source": [
    "#\"DP05_0076PE\",\"Percent Estimate!!HISPANIC OR LATINO AND RACE!!Total population!!Not Hispanic or Latino\",\n",
    "\n",
    "df_population['DP05_0076PE']"
   ]
  },
  {
   "cell_type": "code",
   "execution_count": 18,
   "metadata": {},
   "outputs": [],
   "source": [
    "percent_non_hispanic = float(df_population['DP05_0076PE'][1])"
   ]
  },
  {
   "cell_type": "markdown",
   "metadata": {},
   "source": [
    "Hispanic or Latino is further subdivided, as is Not Hispanic or Latino. We care about the second here when we're trying to match up categories to the RI DoH data; they report the data the way they do based on census categories. \n",
    "\n",
    "Not Hispanic or Latino:\n",
    "- White alone\n",
    "- Black or African American alone\n",
    "- American Indian or Alaska Native alone \n",
    "- Asian alone\n",
    "- Native Hawaiian and Other Pacific Islander alone\n",
    "- Some other race alone \n",
    "- Two or more races\n",
    "    \n",
    "These categories are disjoint sets, so there's no overlap between them. If you add up all the people in each category, you'll get the total number of Non-Hispanic or Latino people in the state. \n",
    "\n",
    "Percent in this column is always these values as a percent of the total population; therefore, if you sum up the percentages in these subcategories, they should add up to 85 percent, the percentage of Non-Hispanic or Latino people we found above.\n",
    "\n"
   ]
  },
  {
   "cell_type": "code",
   "execution_count": 19,
   "metadata": {},
   "outputs": [
    {
     "data": {
      "text/plain": [
       "0    Percent Estimate!!HISPANIC OR LATINO AND RACE!...\n",
       "1                                                 72.7\n",
       "Name: DP05_0077PE, dtype: object"
      ]
     },
     "execution_count": 19,
     "metadata": {},
     "output_type": "execute_result"
    }
   ],
   "source": [
    "#Percent Estimate!!HISPANIC OR LATINO AND RACE!!Total population!!Not Hispanic or Latino!!White alone\n",
    "df_population['DP05_0077PE']"
   ]
  },
  {
   "cell_type": "code",
   "execution_count": 20,
   "metadata": {},
   "outputs": [],
   "source": [
    "percent_non_hispanic_white = float(df_population['DP05_0077PE'][1])"
   ]
  },
  {
   "cell_type": "code",
   "execution_count": 21,
   "metadata": {},
   "outputs": [
    {
     "data": {
      "text/plain": [
       "0    Percent Estimate!!HISPANIC OR LATINO AND RACE!...\n",
       "1                                                  5.6\n",
       "Name: DP05_0078PE, dtype: object"
      ]
     },
     "execution_count": 21,
     "metadata": {},
     "output_type": "execute_result"
    }
   ],
   "source": [
    "#\"DP05_0078PE\",\"Percent Estimate!!HISPANIC OR LATINO AND RACE!!Total population!!Not Hispanic or Latino!!Black or African American alone\",\n",
    "df_population['DP05_0078PE']"
   ]
  },
  {
   "cell_type": "code",
   "execution_count": 22,
   "metadata": {},
   "outputs": [],
   "source": [
    "percent_non_hispanic_black = float(df_population['DP05_0078PE'][1])"
   ]
  },
  {
   "cell_type": "markdown",
   "metadata": {},
   "source": [
    "Non-Hispanic other: If you confirm that the four racial categories that the DoH is reporting add up to 100 percent, this is what you'd do. What that basically means is that this category includes Asians, Native Hawaiians, American Indians, Some other race alone — probably because on their own these percentages would be tiny. But the census doesn't report this — so how do you figure it out? \n",
    "\n",
    "The question is whether or not two or more cases are under Non Hispanic Other or not. First case, it is:"
   ]
  },
  {
   "cell_type": "code",
   "execution_count": 23,
   "metadata": {},
   "outputs": [
    {
     "data": {
      "text/plain": [
       "6.700000000000003"
      ]
     },
     "execution_count": 23,
     "metadata": {},
     "output_type": "execute_result"
    }
   ],
   "source": [
    "#percentage of Non-Hispanic Latino folks - sum of percent of Non-Hispanic whites and Non-Hispanic black people\n",
    "percent_non_hispanic - (percent_non_hispanic_white + percent_non_hispanic_black)"
   ]
  },
  {
   "cell_type": "code",
   "execution_count": 24,
   "metadata": {},
   "outputs": [],
   "source": [
    "percent_non_hispanic_other = percent_non_hispanic - (percent_non_hispanic_white + percent_non_hispanic_black)"
   ]
  },
  {
   "cell_type": "markdown",
   "metadata": {},
   "source": [
    "In case two or more races are counted separately from Non Hispanic Other"
   ]
  },
  {
   "cell_type": "code",
   "execution_count": 25,
   "metadata": {},
   "outputs": [
    {
     "data": {
      "text/plain": [
       "0    Percent Estimate!!HISPANIC OR LATINO AND RACE!...\n",
       "1                                                  2.3\n",
       "Name: DP05_0083PE, dtype: object"
      ]
     },
     "execution_count": 25,
     "metadata": {},
     "output_type": "execute_result"
    }
   ],
   "source": [
    "df_population['DP05_0083PE']"
   ]
  },
  {
   "cell_type": "code",
   "execution_count": 26,
   "metadata": {},
   "outputs": [],
   "source": [
    "#\"DP05_0083PE\",\"Percent Estimate!!HISPANIC OR LATINO AND RACE!!Total population!!Not Hispanic or Latino!!Two or more races\",\n",
    "percent_non_hispanic_two_or_more_races = float(df_population['DP05_0083PE'][1])"
   ]
  },
  {
   "cell_type": "markdown",
   "metadata": {},
   "source": [
    "# Pulling out the American Community Survey values we want"
   ]
  },
  {
   "cell_type": "markdown",
   "metadata": {},
   "source": [
    "**Note** Edited April 29, 7:30pm to account for the fact that RI counts non_hispanic_two_races separately from non_hispanic_other."
   ]
  },
  {
   "cell_type": "code",
   "execution_count": 27,
   "metadata": {},
   "outputs": [],
   "source": [
    "#save the value of non hispanic other separate from two or more races"
   ]
  },
  {
   "cell_type": "code",
   "execution_count": 28,
   "metadata": {},
   "outputs": [],
   "source": [
    "percent_non_hispanic_other_without_two_or_more_races = percent_non_hispanic_other - percent_non_hispanic_two_or_more_races"
   ]
  },
  {
   "cell_type": "code",
   "execution_count": 29,
   "metadata": {},
   "outputs": [],
   "source": [
    "#Add up to 100! "
   ]
  },
  {
   "cell_type": "code",
   "execution_count": 30,
   "metadata": {},
   "outputs": [
    {
     "data": {
      "text/plain": [
       "100.0"
      ]
     },
     "execution_count": 30,
     "metadata": {},
     "output_type": "execute_result"
    }
   ],
   "source": [
    "percent_non_hispanic_two_or_more_races + percent_non_hispanic_other_without_two_or_more_races + percent_non_hispanic_white + percent_non_hispanic_black + percent_hispanic"
   ]
  },
  {
   "cell_type": "code",
   "execution_count": 31,
   "metadata": {},
   "outputs": [],
   "source": [
    "#if two or more races"
   ]
  },
  {
   "cell_type": "code",
   "execution_count": 32,
   "metadata": {},
   "outputs": [],
   "source": [
    "#making this machine readable and nice"
   ]
  },
  {
   "cell_type": "code",
   "execution_count": 33,
   "metadata": {},
   "outputs": [],
   "source": [
    "dict_values = {}\n",
    "dict_values['ACS_hispanic'] = percent_hispanic\n",
    "dict_values['ACS_non_hispanic_black'] = percent_non_hispanic_black\n",
    "dict_values['ACS_non_hispanic_white'] = percent_non_hispanic_white\n",
    "dict_values['ACS_non_hispanic_other_without_two_or_more_races'] = percent_non_hispanic_other_without_two_or_more_races\n",
    "dict_values['ACS_non_hispanic_two_or_more_races'] = percent_non_hispanic_two_or_more_races\n",
    "dict_values['ACS_non_hispanic_other_with_two_or_more_races'] = percent_non_hispanic_other\n",
    "\n",
    "dict_values\n",
    "with open('ACS_values.csv', 'w') as f:\n",
    "    for key in dict_values.keys():\n",
    "        f.write(\"%s,%s\\n\"%(key,dict_values[key]))"
   ]
  },
  {
   "cell_type": "code",
   "execution_count": 34,
   "metadata": {},
   "outputs": [],
   "source": [
    "df_ACS = pd.read_csv('ACS_values.csv')"
   ]
  },
  {
   "cell_type": "code",
   "execution_count": 35,
   "metadata": {},
   "outputs": [
    {
     "data": {
      "text/html": [
       "<div>\n",
       "<style scoped>\n",
       "    .dataframe tbody tr th:only-of-type {\n",
       "        vertical-align: middle;\n",
       "    }\n",
       "\n",
       "    .dataframe tbody tr th {\n",
       "        vertical-align: top;\n",
       "    }\n",
       "\n",
       "    .dataframe thead th {\n",
       "        text-align: right;\n",
       "    }\n",
       "</style>\n",
       "<table border=\"1\" class=\"dataframe\">\n",
       "  <thead>\n",
       "    <tr style=\"text-align: right;\">\n",
       "      <th></th>\n",
       "      <th>race</th>\n",
       "      <th>percentage_total_population</th>\n",
       "    </tr>\n",
       "  </thead>\n",
       "  <tbody>\n",
       "    <tr>\n",
       "      <td>0</td>\n",
       "      <td>ACS_hispanic</td>\n",
       "      <td>15.0</td>\n",
       "    </tr>\n",
       "    <tr>\n",
       "      <td>1</td>\n",
       "      <td>ACS_non_hispanic_black</td>\n",
       "      <td>5.6</td>\n",
       "    </tr>\n",
       "    <tr>\n",
       "      <td>2</td>\n",
       "      <td>ACS_non_hispanic_white</td>\n",
       "      <td>72.7</td>\n",
       "    </tr>\n",
       "    <tr>\n",
       "      <td>3</td>\n",
       "      <td>ACS_non_hispanic_other_without_two_or_more_races</td>\n",
       "      <td>4.4</td>\n",
       "    </tr>\n",
       "    <tr>\n",
       "      <td>4</td>\n",
       "      <td>ACS_non_hispanic_two_or_more_races</td>\n",
       "      <td>2.3</td>\n",
       "    </tr>\n",
       "    <tr>\n",
       "      <td>5</td>\n",
       "      <td>ACS_non_hispanic_other_with_two_or_more_races</td>\n",
       "      <td>6.7</td>\n",
       "    </tr>\n",
       "  </tbody>\n",
       "</table>\n",
       "</div>"
      ],
      "text/plain": [
       "                                               race  \\\n",
       "0                                      ACS_hispanic   \n",
       "1                            ACS_non_hispanic_black   \n",
       "2                            ACS_non_hispanic_white   \n",
       "3  ACS_non_hispanic_other_without_two_or_more_races   \n",
       "4                ACS_non_hispanic_two_or_more_races   \n",
       "5     ACS_non_hispanic_other_with_two_or_more_races   \n",
       "\n",
       "   percentage_total_population  \n",
       "0                         15.0  \n",
       "1                          5.6  \n",
       "2                         72.7  \n",
       "3                          4.4  \n",
       "4                          2.3  \n",
       "5                          6.7  "
      ]
     },
     "execution_count": 35,
     "metadata": {},
     "output_type": "execute_result"
    }
   ],
   "source": [
    "df_ACS"
   ]
  },
  {
   "cell_type": "code",
   "execution_count": 36,
   "metadata": {},
   "outputs": [],
   "source": [
    "#population graph; you'll have to find out whether to include two races in other or not. I suspect not based on the pptx"
   ]
  },
  {
   "cell_type": "code",
   "execution_count": 37,
   "metadata": {},
   "outputs": [
    {
     "data": {
      "image/png": "[encoded data removed]",
      "text/plain": [
       "<Figure size 432x288 with 1 Axes>"
      ]
     },
     "metadata": {
      "needs_background": "light"
     },
     "output_type": "display_data"
    }
   ],
   "source": [
    "g = sns.barplot(x='percentage_total_population',y='race', orient='h', data=df_ACS, palette=sns.color_palette(\"Set2\", n_colors=6))\n"
   ]
  },
  {
   "cell_type": "markdown",
   "metadata": {},
   "source": [
    "# Adding population to our COVID data"
   ]
  },
  {
   "cell_type": "markdown",
   "metadata": {},
   "source": [
    "Combining these population data with our COVID data; this assumes that Non Hispanic Other doesn't include Non Hispanic Two or More Races (it uses the pink bar above)"
   ]
  },
  {
   "cell_type": "code",
   "execution_count": 46,
   "metadata": {},
   "outputs": [
    {
     "data": {
      "text/html": [
       "<div>\n",
       "<style scoped>\n",
       "    .dataframe tbody tr th:only-of-type {\n",
       "        vertical-align: middle;\n",
       "    }\n",
       "\n",
       "    .dataframe tbody tr th {\n",
       "        vertical-align: top;\n",
       "    }\n",
       "\n",
       "    .dataframe thead th {\n",
       "        text-align: right;\n",
       "    }\n",
       "</style>\n",
       "<table border=\"1\" class=\"dataframe\">\n",
       "  <thead>\n",
       "    <tr style=\"text-align: right;\">\n",
       "      <th></th>\n",
       "      <th>Race</th>\n",
       "      <th>metric</th>\n",
       "      <th>percent</th>\n",
       "      <th>date</th>\n",
       "    </tr>\n",
       "  </thead>\n",
       "  <tbody>\n",
       "    <tr>\n",
       "      <td>0</td>\n",
       "      <td>Hispanic/Latinx (any race)</td>\n",
       "      <td>cases</td>\n",
       "      <td>43</td>\n",
       "      <td>04-28</td>\n",
       "    </tr>\n",
       "    <tr>\n",
       "      <td>1</td>\n",
       "      <td>Non-Hispanic black/African American</td>\n",
       "      <td>cases</td>\n",
       "      <td>13</td>\n",
       "      <td>04-28</td>\n",
       "    </tr>\n",
       "    <tr>\n",
       "      <td>2</td>\n",
       "      <td>Non-Hispanic white</td>\n",
       "      <td>cases</td>\n",
       "      <td>39</td>\n",
       "      <td>04-28</td>\n",
       "    </tr>\n",
       "    <tr>\n",
       "      <td>3</td>\n",
       "      <td>Non-Hispanic other</td>\n",
       "      <td>cases</td>\n",
       "      <td>4</td>\n",
       "      <td>04-28</td>\n",
       "    </tr>\n",
       "    <tr>\n",
       "      <td>4</td>\n",
       "      <td>Hispanic/Latinx (any race)</td>\n",
       "      <td>hospitalizations</td>\n",
       "      <td>33</td>\n",
       "      <td>04-28</td>\n",
       "    </tr>\n",
       "    <tr>\n",
       "      <td>5</td>\n",
       "      <td>Non-Hispanic black/African American</td>\n",
       "      <td>hospitalizations</td>\n",
       "      <td>13</td>\n",
       "      <td>04-28</td>\n",
       "    </tr>\n",
       "    <tr>\n",
       "      <td>6</td>\n",
       "      <td>Non-Hispanic white</td>\n",
       "      <td>hospitalizations</td>\n",
       "      <td>50</td>\n",
       "      <td>04-28</td>\n",
       "    </tr>\n",
       "    <tr>\n",
       "      <td>7</td>\n",
       "      <td>Non-Hispanic other</td>\n",
       "      <td>hospitalizations</td>\n",
       "      <td>4</td>\n",
       "      <td>04-28</td>\n",
       "    </tr>\n",
       "    <tr>\n",
       "      <td>8</td>\n",
       "      <td>Hispanic/Latinx (any race)</td>\n",
       "      <td>fatalities</td>\n",
       "      <td>12</td>\n",
       "      <td>04-28</td>\n",
       "    </tr>\n",
       "    <tr>\n",
       "      <td>9</td>\n",
       "      <td>Non-Hispanic black/African American</td>\n",
       "      <td>fatalities</td>\n",
       "      <td>7</td>\n",
       "      <td>04-28</td>\n",
       "    </tr>\n",
       "    <tr>\n",
       "      <td>10</td>\n",
       "      <td>Non-Hispanic white</td>\n",
       "      <td>fatalities</td>\n",
       "      <td>80</td>\n",
       "      <td>04-28</td>\n",
       "    </tr>\n",
       "    <tr>\n",
       "      <td>11</td>\n",
       "      <td>Non-Hispanic other</td>\n",
       "      <td>fatalities</td>\n",
       "      <td>0</td>\n",
       "      <td>04-28</td>\n",
       "    </tr>\n",
       "  </tbody>\n",
       "</table>\n",
       "</div>"
      ],
      "text/plain": [
       "                                   Race            metric  percent   date\n",
       "0            Hispanic/Latinx (any race)             cases       43  04-28\n",
       "1   Non-Hispanic black/African American             cases       13  04-28\n",
       "2                    Non-Hispanic white             cases       39  04-28\n",
       "3                    Non-Hispanic other             cases        4  04-28\n",
       "4            Hispanic/Latinx (any race)  hospitalizations       33  04-28\n",
       "5   Non-Hispanic black/African American  hospitalizations       13  04-28\n",
       "6                    Non-Hispanic white  hospitalizations       50  04-28\n",
       "7                    Non-Hispanic other  hospitalizations        4  04-28\n",
       "8            Hispanic/Latinx (any race)        fatalities       12  04-28\n",
       "9   Non-Hispanic black/African American        fatalities        7  04-28\n",
       "10                   Non-Hispanic white        fatalities       80  04-28\n",
       "11                   Non-Hispanic other        fatalities        0  04-28"
      ]
     },
     "execution_count": 46,
     "metadata": {},
     "output_type": "execute_result"
    }
   ],
   "source": [
    "df_covid"
   ]
  },
  {
   "cell_type": "code",
   "execution_count": 40,
   "metadata": {},
   "outputs": [],
   "source": [
    "df_covid_hispanic = df_covid[df_covid['Race']=='Hispanic/Latinx (any race)']"
   ]
  },
  {
   "cell_type": "code",
   "execution_count": 45,
   "metadata": {},
   "outputs": [
    {
     "name": "stderr",
     "output_type": "stream",
     "text": [
      "/usr/local/lib/python3.7/site-packages/ipykernel_launcher.py:1: SettingWithCopyWarning: \n",
      "A value is trying to be set on a copy of a slice from a DataFrame.\n",
      "Try using .loc[row_indexer,col_indexer] = value instead\n",
      "\n",
      "See the caveats in the documentation: http://pandas.pydata.org/pandas-docs/stable/user_guide/indexing.html#returning-a-view-versus-a-copy\n",
      "  \"\"\"Entry point for launching an IPython kernel.\n"
     ]
    }
   ],
   "source": [
    "df_covid_hispanic['race_population'] = df_ACS[df_ACS['race']=='ACS_hispanic']['percentage_total_population'][0]"
   ]
  },
  {
   "cell_type": "code",
   "execution_count": 47,
   "metadata": {},
   "outputs": [],
   "source": [
    "df_covid_black = df_covid[df_covid['Race']=='Non-Hispanic black/African American']"
   ]
  },
  {
   "cell_type": "code",
   "execution_count": 60,
   "metadata": {},
   "outputs": [
    {
     "name": "stderr",
     "output_type": "stream",
     "text": [
      "/usr/local/lib/python3.7/site-packages/ipykernel_launcher.py:1: SettingWithCopyWarning: \n",
      "A value is trying to be set on a copy of a slice from a DataFrame.\n",
      "Try using .loc[row_indexer,col_indexer] = value instead\n",
      "\n",
      "See the caveats in the documentation: http://pandas.pydata.org/pandas-docs/stable/user_guide/indexing.html#returning-a-view-versus-a-copy\n",
      "  \"\"\"Entry point for launching an IPython kernel.\n"
     ]
    }
   ],
   "source": [
    "df_covid_black['race_population'] = df_ACS[df_ACS['race']=='ACS_non_hispanic_black']['percentage_total_population'][1]"
   ]
  },
  {
   "cell_type": "code",
   "execution_count": 61,
   "metadata": {},
   "outputs": [],
   "source": [
    "df_covid_white = df_covid[df_covid['Race']=='Non-Hispanic white']"
   ]
  },
  {
   "cell_type": "code",
   "execution_count": 67,
   "metadata": {},
   "outputs": [
    {
     "name": "stderr",
     "output_type": "stream",
     "text": [
      "/usr/local/lib/python3.7/site-packages/ipykernel_launcher.py:1: SettingWithCopyWarning: \n",
      "A value is trying to be set on a copy of a slice from a DataFrame.\n",
      "Try using .loc[row_indexer,col_indexer] = value instead\n",
      "\n",
      "See the caveats in the documentation: http://pandas.pydata.org/pandas-docs/stable/user_guide/indexing.html#returning-a-view-versus-a-copy\n",
      "  \"\"\"Entry point for launching an IPython kernel.\n"
     ]
    }
   ],
   "source": [
    "df_covid_white['race_population'] = df_ACS[df_ACS['race']=='ACS_non_hispanic_white']['percentage_total_population'][2]"
   ]
  },
  {
   "cell_type": "code",
   "execution_count": 68,
   "metadata": {},
   "outputs": [],
   "source": [
    "df_covid_other = df_covid[df_covid['Race']=='Non-Hispanic other']"
   ]
  },
  {
   "cell_type": "code",
   "execution_count": 70,
   "metadata": {},
   "outputs": [
    {
     "name": "stderr",
     "output_type": "stream",
     "text": [
      "/usr/local/lib/python3.7/site-packages/ipykernel_launcher.py:1: SettingWithCopyWarning: \n",
      "A value is trying to be set on a copy of a slice from a DataFrame.\n",
      "Try using .loc[row_indexer,col_indexer] = value instead\n",
      "\n",
      "See the caveats in the documentation: http://pandas.pydata.org/pandas-docs/stable/user_guide/indexing.html#returning-a-view-versus-a-copy\n",
      "  \"\"\"Entry point for launching an IPython kernel.\n"
     ]
    }
   ],
   "source": [
    "df_covid_other['race_population']= df_ACS[df_ACS['race']=='ACS_non_hispanic_other_without_two_or_more_races']['percentage_total_population'][3]\n",
    "                                                                                                              "
   ]
  },
  {
   "cell_type": "code",
   "execution_count": 75,
   "metadata": {},
   "outputs": [],
   "source": [
    "df_covid_with_pop = df_covid_hispanic.append(df_covid_black).append(df_covid_white).append(df_covid_other)"
   ]
  },
  {
   "cell_type": "code",
   "execution_count": 76,
   "metadata": {},
   "outputs": [
    {
     "data": {
      "text/html": [
       "<div>\n",
       "<style scoped>\n",
       "    .dataframe tbody tr th:only-of-type {\n",
       "        vertical-align: middle;\n",
       "    }\n",
       "\n",
       "    .dataframe tbody tr th {\n",
       "        vertical-align: top;\n",
       "    }\n",
       "\n",
       "    .dataframe thead th {\n",
       "        text-align: right;\n",
       "    }\n",
       "</style>\n",
       "<table border=\"1\" class=\"dataframe\">\n",
       "  <thead>\n",
       "    <tr style=\"text-align: right;\">\n",
       "      <th></th>\n",
       "      <th>Race</th>\n",
       "      <th>metric</th>\n",
       "      <th>percent</th>\n",
       "      <th>date</th>\n",
       "      <th>race_population</th>\n",
       "    </tr>\n",
       "  </thead>\n",
       "  <tbody>\n",
       "    <tr>\n",
       "      <td>0</td>\n",
       "      <td>Hispanic/Latinx (any race)</td>\n",
       "      <td>cases</td>\n",
       "      <td>43</td>\n",
       "      <td>04-28</td>\n",
       "      <td>15.0</td>\n",
       "    </tr>\n",
       "    <tr>\n",
       "      <td>4</td>\n",
       "      <td>Hispanic/Latinx (any race)</td>\n",
       "      <td>hospitalizations</td>\n",
       "      <td>33</td>\n",
       "      <td>04-28</td>\n",
       "      <td>15.0</td>\n",
       "    </tr>\n",
       "    <tr>\n",
       "      <td>8</td>\n",
       "      <td>Hispanic/Latinx (any race)</td>\n",
       "      <td>fatalities</td>\n",
       "      <td>12</td>\n",
       "      <td>04-28</td>\n",
       "      <td>15.0</td>\n",
       "    </tr>\n",
       "    <tr>\n",
       "      <td>1</td>\n",
       "      <td>Non-Hispanic black/African American</td>\n",
       "      <td>cases</td>\n",
       "      <td>13</td>\n",
       "      <td>04-28</td>\n",
       "      <td>5.6</td>\n",
       "    </tr>\n",
       "    <tr>\n",
       "      <td>5</td>\n",
       "      <td>Non-Hispanic black/African American</td>\n",
       "      <td>hospitalizations</td>\n",
       "      <td>13</td>\n",
       "      <td>04-28</td>\n",
       "      <td>5.6</td>\n",
       "    </tr>\n",
       "    <tr>\n",
       "      <td>9</td>\n",
       "      <td>Non-Hispanic black/African American</td>\n",
       "      <td>fatalities</td>\n",
       "      <td>7</td>\n",
       "      <td>04-28</td>\n",
       "      <td>5.6</td>\n",
       "    </tr>\n",
       "    <tr>\n",
       "      <td>2</td>\n",
       "      <td>Non-Hispanic white</td>\n",
       "      <td>cases</td>\n",
       "      <td>39</td>\n",
       "      <td>04-28</td>\n",
       "      <td>72.7</td>\n",
       "    </tr>\n",
       "    <tr>\n",
       "      <td>6</td>\n",
       "      <td>Non-Hispanic white</td>\n",
       "      <td>hospitalizations</td>\n",
       "      <td>50</td>\n",
       "      <td>04-28</td>\n",
       "      <td>72.7</td>\n",
       "    </tr>\n",
       "    <tr>\n",
       "      <td>10</td>\n",
       "      <td>Non-Hispanic white</td>\n",
       "      <td>fatalities</td>\n",
       "      <td>80</td>\n",
       "      <td>04-28</td>\n",
       "      <td>72.7</td>\n",
       "    </tr>\n",
       "    <tr>\n",
       "      <td>3</td>\n",
       "      <td>Non-Hispanic other</td>\n",
       "      <td>cases</td>\n",
       "      <td>4</td>\n",
       "      <td>04-28</td>\n",
       "      <td>4.4</td>\n",
       "    </tr>\n",
       "    <tr>\n",
       "      <td>7</td>\n",
       "      <td>Non-Hispanic other</td>\n",
       "      <td>hospitalizations</td>\n",
       "      <td>4</td>\n",
       "      <td>04-28</td>\n",
       "      <td>4.4</td>\n",
       "    </tr>\n",
       "    <tr>\n",
       "      <td>11</td>\n",
       "      <td>Non-Hispanic other</td>\n",
       "      <td>fatalities</td>\n",
       "      <td>0</td>\n",
       "      <td>04-28</td>\n",
       "      <td>4.4</td>\n",
       "    </tr>\n",
       "  </tbody>\n",
       "</table>\n",
       "</div>"
      ],
      "text/plain": [
       "                                   Race            metric  percent   date  \\\n",
       "0            Hispanic/Latinx (any race)             cases       43  04-28   \n",
       "4            Hispanic/Latinx (any race)  hospitalizations       33  04-28   \n",
       "8            Hispanic/Latinx (any race)        fatalities       12  04-28   \n",
       "1   Non-Hispanic black/African American             cases       13  04-28   \n",
       "5   Non-Hispanic black/African American  hospitalizations       13  04-28   \n",
       "9   Non-Hispanic black/African American        fatalities        7  04-28   \n",
       "2                    Non-Hispanic white             cases       39  04-28   \n",
       "6                    Non-Hispanic white  hospitalizations       50  04-28   \n",
       "10                   Non-Hispanic white        fatalities       80  04-28   \n",
       "3                    Non-Hispanic other             cases        4  04-28   \n",
       "7                    Non-Hispanic other  hospitalizations        4  04-28   \n",
       "11                   Non-Hispanic other        fatalities        0  04-28   \n",
       "\n",
       "    race_population  \n",
       "0              15.0  \n",
       "4              15.0  \n",
       "8              15.0  \n",
       "1               5.6  \n",
       "5               5.6  \n",
       "9               5.6  \n",
       "2              72.7  \n",
       "6              72.7  \n",
       "10             72.7  \n",
       "3               4.4  \n",
       "7               4.4  \n",
       "11              4.4  "
      ]
     },
     "execution_count": 76,
     "metadata": {},
     "output_type": "execute_result"
    }
   ],
   "source": [
    "df_covid_with_pop"
   ]
  },
  {
   "cell_type": "markdown",
   "metadata": {},
   "source": [
    "# How do you present these findings? "
   ]
  },
  {
   "cell_type": "markdown",
   "metadata": {},
   "source": [
    "I wouldn't give people rates — these are estimates and I don't think rates per race are that meaningful. \n",
    "\n",
    "I would just state the percentage of people who have tested positive, fatalities and hospitalizations and then juxtapose with population demographics, as seen here: https://www.propublica.org/article/early-data-shows-african-americans-have-contracted-and-died-of-coronavirus-at-an-alarming-rate and https://www.nytimes.com/2020/04/07/us/coronavirus-race.html\n",
    "\n",
    "**NOTE** Figure out what to do about the cases, hospitalizations and fatalities that the DoH doesn't have race data on! Ask if these percentages are for totals or for the people for whom they've recorded race. I suspect the latter! \n",
    "\n",
    "Possible opening line:\n",
    "\n",
    "Hispanic people are overrepresented among those who have tested postive for coronavirus in the state and among those hospitalized as a result. However, they are not overrepresented in fatalities when compared with their composition of Rhode Island's population.\n",
    " "
   ]
  },
  {
   "cell_type": "markdown",
   "metadata": {},
   "source": [
    "# Adjusting data for missing values "
   ]
  },
  {
   "cell_type": "markdown",
   "metadata": {},
   "source": [
    "How you deal with incomplete data. It seems that RI is reporting data on race only as a percentage of cases, hospitalizations and fatalities where race is known. (Please confirm this with the DoH!) What this would mean is that 43% of total cases weren't Hispanic; 43% of 60& of total cases were Hispanic. If you report this number, which is lower than 43%,  you can guarantee to your readers that the percentage of cases will never dip below the adjusted value; it can only increase. \n",
    "\n",
    "If you report the 43% number, if comes with a huge error interval since 40% of total cases are unknown. It's hard to communicate that uncertainty to a reader. But if you adjust, you still have a case of Hispanic overrepresentation and you can tell readers with certainty that the numbers will never dip below the value you're giving them.\n",
    "\n",
    "**NOTE** You can talk about overrepresentation with confidence when you do this, not underrepresentation — as discussed, these numbers may increase but they won't decrease. If you do talk about underrepresentation, make sure that you mention that a bunch of the data is unkown in each case."
   ]
  },
  {
   "cell_type": "markdown",
   "metadata": {},
   "source": [
    "**Cases**"
   ]
  },
  {
   "cell_type": "code",
   "execution_count": 125,
   "metadata": {},
   "outputs": [],
   "source": [
    "#filter"
   ]
  },
  {
   "cell_type": "code",
   "execution_count": 99,
   "metadata": {},
   "outputs": [],
   "source": [
    "df_covid_cases = df_covid_with_pop[df_covid_with_pop['metric']=='cases']"
   ]
  },
  {
   "cell_type": "code",
   "execution_count": 100,
   "metadata": {},
   "outputs": [],
   "source": [
    "#bc 41% cases are of unknown race as of 04-29"
   ]
  },
  {
   "cell_type": "code",
   "execution_count": 101,
   "metadata": {},
   "outputs": [
    {
     "name": "stderr",
     "output_type": "stream",
     "text": [
      "/usr/local/lib/python3.7/site-packages/ipykernel_launcher.py:1: SettingWithCopyWarning: \n",
      "A value is trying to be set on a copy of a slice from a DataFrame.\n",
      "Try using .loc[row_indexer,col_indexer] = value instead\n",
      "\n",
      "See the caveats in the documentation: http://pandas.pydata.org/pandas-docs/stable/user_guide/indexing.html#returning-a-view-versus-a-copy\n",
      "  \"\"\"Entry point for launching an IPython kernel.\n"
     ]
    }
   ],
   "source": [
    "df_covid_cases['adjusted'] = (df_covid[df_covid['metric']=='cases']['percent'].astype(float))*0.59"
   ]
  },
  {
   "cell_type": "code",
   "execution_count": null,
   "metadata": {},
   "outputs": [],
   "source": [
    "#this is called long data"
   ]
  },
  {
   "cell_type": "code",
   "execution_count": 102,
   "metadata": {},
   "outputs": [
    {
     "data": {
      "text/html": [
       "<div>\n",
       "<style scoped>\n",
       "    .dataframe tbody tr th:only-of-type {\n",
       "        vertical-align: middle;\n",
       "    }\n",
       "\n",
       "    .dataframe tbody tr th {\n",
       "        vertical-align: top;\n",
       "    }\n",
       "\n",
       "    .dataframe thead th {\n",
       "        text-align: right;\n",
       "    }\n",
       "</style>\n",
       "<table border=\"1\" class=\"dataframe\">\n",
       "  <thead>\n",
       "    <tr style=\"text-align: right;\">\n",
       "      <th></th>\n",
       "      <th>Race</th>\n",
       "      <th>metric</th>\n",
       "      <th>percent</th>\n",
       "      <th>date</th>\n",
       "      <th>race_population</th>\n",
       "      <th>adjusted</th>\n",
       "    </tr>\n",
       "  </thead>\n",
       "  <tbody>\n",
       "    <tr>\n",
       "      <td>0</td>\n",
       "      <td>Hispanic/Latinx (any race)</td>\n",
       "      <td>cases</td>\n",
       "      <td>43</td>\n",
       "      <td>04-28</td>\n",
       "      <td>15.0</td>\n",
       "      <td>25.37</td>\n",
       "    </tr>\n",
       "    <tr>\n",
       "      <td>1</td>\n",
       "      <td>Non-Hispanic black/African American</td>\n",
       "      <td>cases</td>\n",
       "      <td>13</td>\n",
       "      <td>04-28</td>\n",
       "      <td>5.6</td>\n",
       "      <td>7.67</td>\n",
       "    </tr>\n",
       "    <tr>\n",
       "      <td>2</td>\n",
       "      <td>Non-Hispanic white</td>\n",
       "      <td>cases</td>\n",
       "      <td>39</td>\n",
       "      <td>04-28</td>\n",
       "      <td>72.7</td>\n",
       "      <td>23.01</td>\n",
       "    </tr>\n",
       "    <tr>\n",
       "      <td>3</td>\n",
       "      <td>Non-Hispanic other</td>\n",
       "      <td>cases</td>\n",
       "      <td>4</td>\n",
       "      <td>04-28</td>\n",
       "      <td>4.4</td>\n",
       "      <td>2.36</td>\n",
       "    </tr>\n",
       "  </tbody>\n",
       "</table>\n",
       "</div>"
      ],
      "text/plain": [
       "                                  Race metric  percent   date  \\\n",
       "0           Hispanic/Latinx (any race)  cases       43  04-28   \n",
       "1  Non-Hispanic black/African American  cases       13  04-28   \n",
       "2                   Non-Hispanic white  cases       39  04-28   \n",
       "3                   Non-Hispanic other  cases        4  04-28   \n",
       "\n",
       "   race_population  adjusted  \n",
       "0             15.0     25.37  \n",
       "1              5.6      7.67  \n",
       "2             72.7     23.01  \n",
       "3              4.4      2.36  "
      ]
     },
     "execution_count": 102,
     "metadata": {},
     "output_type": "execute_result"
    }
   ],
   "source": [
    "df_covid_cases"
   ]
  },
  {
   "cell_type": "code",
   "execution_count": 103,
   "metadata": {},
   "outputs": [],
   "source": [
    "df_covid_cases_pivoted = df_covid_cases.pivot(index='metric', columns='Race', values='adjusted')\n",
    "df_covid_cases_pivoted['unknown'] = 41"
   ]
  },
  {
   "cell_type": "code",
   "execution_count": null,
   "metadata": {},
   "outputs": [],
   "source": [
    "#this is called wide data"
   ]
  },
  {
   "cell_type": "code",
   "execution_count": 104,
   "metadata": {},
   "outputs": [
    {
     "data": {
      "text/html": [
       "<div>\n",
       "<style scoped>\n",
       "    .dataframe tbody tr th:only-of-type {\n",
       "        vertical-align: middle;\n",
       "    }\n",
       "\n",
       "    .dataframe tbody tr th {\n",
       "        vertical-align: top;\n",
       "    }\n",
       "\n",
       "    .dataframe thead th {\n",
       "        text-align: right;\n",
       "    }\n",
       "</style>\n",
       "<table border=\"1\" class=\"dataframe\">\n",
       "  <thead>\n",
       "    <tr style=\"text-align: right;\">\n",
       "      <th>Race</th>\n",
       "      <th>Hispanic/Latinx (any race)</th>\n",
       "      <th>Non-Hispanic black/African American</th>\n",
       "      <th>Non-Hispanic other</th>\n",
       "      <th>Non-Hispanic white</th>\n",
       "      <th>unknown</th>\n",
       "    </tr>\n",
       "    <tr>\n",
       "      <th>metric</th>\n",
       "      <th></th>\n",
       "      <th></th>\n",
       "      <th></th>\n",
       "      <th></th>\n",
       "      <th></th>\n",
       "    </tr>\n",
       "  </thead>\n",
       "  <tbody>\n",
       "    <tr>\n",
       "      <td>cases</td>\n",
       "      <td>25.37</td>\n",
       "      <td>7.67</td>\n",
       "      <td>2.36</td>\n",
       "      <td>23.01</td>\n",
       "      <td>41</td>\n",
       "    </tr>\n",
       "  </tbody>\n",
       "</table>\n",
       "</div>"
      ],
      "text/plain": [
       "Race    Hispanic/Latinx (any race)  Non-Hispanic black/African American  \\\n",
       "metric                                                                    \n",
       "cases                        25.37                                 7.67   \n",
       "\n",
       "Race    Non-Hispanic other  Non-Hispanic white  unknown  \n",
       "metric                                                   \n",
       "cases                 2.36               23.01       41  "
      ]
     },
     "execution_count": 104,
     "metadata": {},
     "output_type": "execute_result"
    }
   ],
   "source": [
    "df_covid_cases_pivoted"
   ]
  },
  {
   "cell_type": "markdown",
   "metadata": {},
   "source": [
    "**Hospitalizations**"
   ]
  },
  {
   "cell_type": "code",
   "execution_count": null,
   "metadata": {},
   "outputs": [],
   "source": [
    "#filter"
   ]
  },
  {
   "cell_type": "code",
   "execution_count": 105,
   "metadata": {},
   "outputs": [],
   "source": [
    "df_covid_hosp = df_covid_with_pop[df_covid_with_pop['metric']=='hospitalizations']"
   ]
  },
  {
   "cell_type": "code",
   "execution_count": 106,
   "metadata": {},
   "outputs": [],
   "source": [
    "#bc 31% hospitalizations are of unknown race as of 04-29"
   ]
  },
  {
   "cell_type": "code",
   "execution_count": 107,
   "metadata": {},
   "outputs": [
    {
     "name": "stderr",
     "output_type": "stream",
     "text": [
      "/usr/local/lib/python3.7/site-packages/ipykernel_launcher.py:1: SettingWithCopyWarning: \n",
      "A value is trying to be set on a copy of a slice from a DataFrame.\n",
      "Try using .loc[row_indexer,col_indexer] = value instead\n",
      "\n",
      "See the caveats in the documentation: http://pandas.pydata.org/pandas-docs/stable/user_guide/indexing.html#returning-a-view-versus-a-copy\n",
      "  \"\"\"Entry point for launching an IPython kernel.\n"
     ]
    }
   ],
   "source": [
    "df_covid_hosp['adjusted']=(df_covid[df_covid['metric']=='hospitalizations']['percent'].astype(float))*0.69"
   ]
  },
  {
   "cell_type": "code",
   "execution_count": null,
   "metadata": {},
   "outputs": [],
   "source": [
    "#long"
   ]
  },
  {
   "cell_type": "code",
   "execution_count": 108,
   "metadata": {},
   "outputs": [
    {
     "data": {
      "text/html": [
       "<div>\n",
       "<style scoped>\n",
       "    .dataframe tbody tr th:only-of-type {\n",
       "        vertical-align: middle;\n",
       "    }\n",
       "\n",
       "    .dataframe tbody tr th {\n",
       "        vertical-align: top;\n",
       "    }\n",
       "\n",
       "    .dataframe thead th {\n",
       "        text-align: right;\n",
       "    }\n",
       "</style>\n",
       "<table border=\"1\" class=\"dataframe\">\n",
       "  <thead>\n",
       "    <tr style=\"text-align: right;\">\n",
       "      <th></th>\n",
       "      <th>Race</th>\n",
       "      <th>metric</th>\n",
       "      <th>percent</th>\n",
       "      <th>date</th>\n",
       "      <th>race_population</th>\n",
       "      <th>adjusted</th>\n",
       "    </tr>\n",
       "  </thead>\n",
       "  <tbody>\n",
       "    <tr>\n",
       "      <td>4</td>\n",
       "      <td>Hispanic/Latinx (any race)</td>\n",
       "      <td>hospitalizations</td>\n",
       "      <td>33</td>\n",
       "      <td>04-28</td>\n",
       "      <td>15.0</td>\n",
       "      <td>22.77</td>\n",
       "    </tr>\n",
       "    <tr>\n",
       "      <td>5</td>\n",
       "      <td>Non-Hispanic black/African American</td>\n",
       "      <td>hospitalizations</td>\n",
       "      <td>13</td>\n",
       "      <td>04-28</td>\n",
       "      <td>5.6</td>\n",
       "      <td>8.97</td>\n",
       "    </tr>\n",
       "    <tr>\n",
       "      <td>6</td>\n",
       "      <td>Non-Hispanic white</td>\n",
       "      <td>hospitalizations</td>\n",
       "      <td>50</td>\n",
       "      <td>04-28</td>\n",
       "      <td>72.7</td>\n",
       "      <td>34.50</td>\n",
       "    </tr>\n",
       "    <tr>\n",
       "      <td>7</td>\n",
       "      <td>Non-Hispanic other</td>\n",
       "      <td>hospitalizations</td>\n",
       "      <td>4</td>\n",
       "      <td>04-28</td>\n",
       "      <td>4.4</td>\n",
       "      <td>2.76</td>\n",
       "    </tr>\n",
       "  </tbody>\n",
       "</table>\n",
       "</div>"
      ],
      "text/plain": [
       "                                  Race            metric  percent   date  \\\n",
       "4           Hispanic/Latinx (any race)  hospitalizations       33  04-28   \n",
       "5  Non-Hispanic black/African American  hospitalizations       13  04-28   \n",
       "6                   Non-Hispanic white  hospitalizations       50  04-28   \n",
       "7                   Non-Hispanic other  hospitalizations        4  04-28   \n",
       "\n",
       "   race_population  adjusted  \n",
       "4             15.0     22.77  \n",
       "5              5.6      8.97  \n",
       "6             72.7     34.50  \n",
       "7              4.4      2.76  "
      ]
     },
     "execution_count": 108,
     "metadata": {},
     "output_type": "execute_result"
    }
   ],
   "source": [
    "df_covid_hosp"
   ]
  },
  {
   "cell_type": "code",
   "execution_count": 109,
   "metadata": {},
   "outputs": [],
   "source": [
    "df_covid_hosp_pivoted = df_covid_hosp.pivot(index='metric', columns='Race', values='adjusted')\n",
    "df_covid_hosp_pivoted['unknown'] = 31"
   ]
  },
  {
   "cell_type": "code",
   "execution_count": null,
   "metadata": {},
   "outputs": [],
   "source": [
    "#wide"
   ]
  },
  {
   "cell_type": "code",
   "execution_count": 110,
   "metadata": {},
   "outputs": [
    {
     "data": {
      "text/html": [
       "<div>\n",
       "<style scoped>\n",
       "    .dataframe tbody tr th:only-of-type {\n",
       "        vertical-align: middle;\n",
       "    }\n",
       "\n",
       "    .dataframe tbody tr th {\n",
       "        vertical-align: top;\n",
       "    }\n",
       "\n",
       "    .dataframe thead th {\n",
       "        text-align: right;\n",
       "    }\n",
       "</style>\n",
       "<table border=\"1\" class=\"dataframe\">\n",
       "  <thead>\n",
       "    <tr style=\"text-align: right;\">\n",
       "      <th>Race</th>\n",
       "      <th>Hispanic/Latinx (any race)</th>\n",
       "      <th>Non-Hispanic black/African American</th>\n",
       "      <th>Non-Hispanic other</th>\n",
       "      <th>Non-Hispanic white</th>\n",
       "      <th>unknown</th>\n",
       "    </tr>\n",
       "    <tr>\n",
       "      <th>metric</th>\n",
       "      <th></th>\n",
       "      <th></th>\n",
       "      <th></th>\n",
       "      <th></th>\n",
       "      <th></th>\n",
       "    </tr>\n",
       "  </thead>\n",
       "  <tbody>\n",
       "    <tr>\n",
       "      <td>hospitalizations</td>\n",
       "      <td>22.77</td>\n",
       "      <td>8.97</td>\n",
       "      <td>2.76</td>\n",
       "      <td>34.5</td>\n",
       "      <td>31</td>\n",
       "    </tr>\n",
       "  </tbody>\n",
       "</table>\n",
       "</div>"
      ],
      "text/plain": [
       "Race              Hispanic/Latinx (any race)  \\\n",
       "metric                                         \n",
       "hospitalizations                       22.77   \n",
       "\n",
       "Race              Non-Hispanic black/African American  Non-Hispanic other  \\\n",
       "metric                                                                      \n",
       "hospitalizations                                 8.97                2.76   \n",
       "\n",
       "Race              Non-Hispanic white  unknown  \n",
       "metric                                         \n",
       "hospitalizations                34.5       31  "
      ]
     },
     "execution_count": 110,
     "metadata": {},
     "output_type": "execute_result"
    }
   ],
   "source": [
    "df_covid_hosp_pivoted"
   ]
  },
  {
   "cell_type": "markdown",
   "metadata": {},
   "source": [
    "**Fatalities**"
   ]
  },
  {
   "cell_type": "code",
   "execution_count": 111,
   "metadata": {},
   "outputs": [],
   "source": [
    "#bc 10% fatalities are of unknown race as of 04-29"
   ]
  },
  {
   "cell_type": "code",
   "execution_count": 115,
   "metadata": {},
   "outputs": [],
   "source": [
    "df_covid_fat = df_covid_with_pop[df_covid_with_pop['metric']=='fatalities']"
   ]
  },
  {
   "cell_type": "code",
   "execution_count": 116,
   "metadata": {},
   "outputs": [
    {
     "name": "stderr",
     "output_type": "stream",
     "text": [
      "/usr/local/lib/python3.7/site-packages/ipykernel_launcher.py:1: SettingWithCopyWarning: \n",
      "A value is trying to be set on a copy of a slice from a DataFrame.\n",
      "Try using .loc[row_indexer,col_indexer] = value instead\n",
      "\n",
      "See the caveats in the documentation: http://pandas.pydata.org/pandas-docs/stable/user_guide/indexing.html#returning-a-view-versus-a-copy\n",
      "  \"\"\"Entry point for launching an IPython kernel.\n"
     ]
    }
   ],
   "source": [
    "df_covid_fat['adjusted'] = (df_covid_with_pop[df_covid_with_pop['metric']=='fatalities']['percent'].astype(float))*0.90"
   ]
  },
  {
   "cell_type": "code",
   "execution_count": null,
   "metadata": {},
   "outputs": [],
   "source": [
    "#long"
   ]
  },
  {
   "cell_type": "code",
   "execution_count": 117,
   "metadata": {},
   "outputs": [
    {
     "data": {
      "text/html": [
       "<div>\n",
       "<style scoped>\n",
       "    .dataframe tbody tr th:only-of-type {\n",
       "        vertical-align: middle;\n",
       "    }\n",
       "\n",
       "    .dataframe tbody tr th {\n",
       "        vertical-align: top;\n",
       "    }\n",
       "\n",
       "    .dataframe thead th {\n",
       "        text-align: right;\n",
       "    }\n",
       "</style>\n",
       "<table border=\"1\" class=\"dataframe\">\n",
       "  <thead>\n",
       "    <tr style=\"text-align: right;\">\n",
       "      <th></th>\n",
       "      <th>Race</th>\n",
       "      <th>metric</th>\n",
       "      <th>percent</th>\n",
       "      <th>date</th>\n",
       "      <th>race_population</th>\n",
       "      <th>adjusted</th>\n",
       "    </tr>\n",
       "  </thead>\n",
       "  <tbody>\n",
       "    <tr>\n",
       "      <td>8</td>\n",
       "      <td>Hispanic/Latinx (any race)</td>\n",
       "      <td>fatalities</td>\n",
       "      <td>12</td>\n",
       "      <td>04-28</td>\n",
       "      <td>15.0</td>\n",
       "      <td>10.8</td>\n",
       "    </tr>\n",
       "    <tr>\n",
       "      <td>9</td>\n",
       "      <td>Non-Hispanic black/African American</td>\n",
       "      <td>fatalities</td>\n",
       "      <td>7</td>\n",
       "      <td>04-28</td>\n",
       "      <td>5.6</td>\n",
       "      <td>6.3</td>\n",
       "    </tr>\n",
       "    <tr>\n",
       "      <td>10</td>\n",
       "      <td>Non-Hispanic white</td>\n",
       "      <td>fatalities</td>\n",
       "      <td>80</td>\n",
       "      <td>04-28</td>\n",
       "      <td>72.7</td>\n",
       "      <td>72.0</td>\n",
       "    </tr>\n",
       "    <tr>\n",
       "      <td>11</td>\n",
       "      <td>Non-Hispanic other</td>\n",
       "      <td>fatalities</td>\n",
       "      <td>0</td>\n",
       "      <td>04-28</td>\n",
       "      <td>4.4</td>\n",
       "      <td>0.0</td>\n",
       "    </tr>\n",
       "  </tbody>\n",
       "</table>\n",
       "</div>"
      ],
      "text/plain": [
       "                                   Race      metric  percent   date  \\\n",
       "8            Hispanic/Latinx (any race)  fatalities       12  04-28   \n",
       "9   Non-Hispanic black/African American  fatalities        7  04-28   \n",
       "10                   Non-Hispanic white  fatalities       80  04-28   \n",
       "11                   Non-Hispanic other  fatalities        0  04-28   \n",
       "\n",
       "    race_population  adjusted  \n",
       "8              15.0      10.8  \n",
       "9               5.6       6.3  \n",
       "10             72.7      72.0  \n",
       "11              4.4       0.0  "
      ]
     },
     "execution_count": 117,
     "metadata": {},
     "output_type": "execute_result"
    }
   ],
   "source": [
    "df_covid_fat"
   ]
  },
  {
   "cell_type": "code",
   "execution_count": 118,
   "metadata": {},
   "outputs": [],
   "source": [
    "df_covid_fat_pivoted = df_covid_fat.pivot(index='metric', columns='Race', values='adjusted')\n",
    "df_covid_fat_pivoted['unknown'] = 10"
   ]
  },
  {
   "cell_type": "code",
   "execution_count": null,
   "metadata": {},
   "outputs": [],
   "source": [
    "#wide"
   ]
  },
  {
   "cell_type": "code",
   "execution_count": 119,
   "metadata": {},
   "outputs": [
    {
     "data": {
      "text/html": [
       "<div>\n",
       "<style scoped>\n",
       "    .dataframe tbody tr th:only-of-type {\n",
       "        vertical-align: middle;\n",
       "    }\n",
       "\n",
       "    .dataframe tbody tr th {\n",
       "        vertical-align: top;\n",
       "    }\n",
       "\n",
       "    .dataframe thead th {\n",
       "        text-align: right;\n",
       "    }\n",
       "</style>\n",
       "<table border=\"1\" class=\"dataframe\">\n",
       "  <thead>\n",
       "    <tr style=\"text-align: right;\">\n",
       "      <th>Race</th>\n",
       "      <th>Hispanic/Latinx (any race)</th>\n",
       "      <th>Non-Hispanic black/African American</th>\n",
       "      <th>Non-Hispanic other</th>\n",
       "      <th>Non-Hispanic white</th>\n",
       "      <th>unknown</th>\n",
       "    </tr>\n",
       "    <tr>\n",
       "      <th>metric</th>\n",
       "      <th></th>\n",
       "      <th></th>\n",
       "      <th></th>\n",
       "      <th></th>\n",
       "      <th></th>\n",
       "    </tr>\n",
       "  </thead>\n",
       "  <tbody>\n",
       "    <tr>\n",
       "      <td>fatalities</td>\n",
       "      <td>10.8</td>\n",
       "      <td>6.3</td>\n",
       "      <td>0.0</td>\n",
       "      <td>72.0</td>\n",
       "      <td>10</td>\n",
       "    </tr>\n",
       "  </tbody>\n",
       "</table>\n",
       "</div>"
      ],
      "text/plain": [
       "Race        Hispanic/Latinx (any race)  Non-Hispanic black/African American  \\\n",
       "metric                                                                        \n",
       "fatalities                        10.8                                  6.3   \n",
       "\n",
       "Race        Non-Hispanic other  Non-Hispanic white  unknown  \n",
       "metric                                                       \n",
       "fatalities                 0.0                72.0       10  "
      ]
     },
     "execution_count": 119,
     "metadata": {},
     "output_type": "execute_result"
    }
   ],
   "source": [
    "df_covid_fat_pivoted"
   ]
  },
  {
   "cell_type": "markdown",
   "metadata": {},
   "source": [
    "# Preparing data for visualization "
   ]
  },
  {
   "cell_type": "markdown",
   "metadata": {},
   "source": [
    "We're preparing long and wide versions of the same data because we're going to put these values in datawrapper later for different charts."
   ]
  },
  {
   "cell_type": "code",
   "execution_count": null,
   "metadata": {},
   "outputs": [],
   "source": [
    "#long"
   ]
  },
  {
   "cell_type": "code",
   "execution_count": 128,
   "metadata": {},
   "outputs": [],
   "source": [
    "df_covid_adjusted = df_covid_cases.append(df_covid_hosp).append(df_covid_fat)"
   ]
  },
  {
   "cell_type": "code",
   "execution_count": 129,
   "metadata": {},
   "outputs": [
    {
     "data": {
      "text/html": [
       "<div>\n",
       "<style scoped>\n",
       "    .dataframe tbody tr th:only-of-type {\n",
       "        vertical-align: middle;\n",
       "    }\n",
       "\n",
       "    .dataframe tbody tr th {\n",
       "        vertical-align: top;\n",
       "    }\n",
       "\n",
       "    .dataframe thead th {\n",
       "        text-align: right;\n",
       "    }\n",
       "</style>\n",
       "<table border=\"1\" class=\"dataframe\">\n",
       "  <thead>\n",
       "    <tr style=\"text-align: right;\">\n",
       "      <th></th>\n",
       "      <th>Race</th>\n",
       "      <th>metric</th>\n",
       "      <th>percent</th>\n",
       "      <th>date</th>\n",
       "      <th>race_population</th>\n",
       "      <th>adjusted</th>\n",
       "    </tr>\n",
       "  </thead>\n",
       "  <tbody>\n",
       "    <tr>\n",
       "      <td>0</td>\n",
       "      <td>Hispanic/Latinx (any race)</td>\n",
       "      <td>cases</td>\n",
       "      <td>43</td>\n",
       "      <td>04-28</td>\n",
       "      <td>15.0</td>\n",
       "      <td>25.37</td>\n",
       "    </tr>\n",
       "    <tr>\n",
       "      <td>1</td>\n",
       "      <td>Non-Hispanic black/African American</td>\n",
       "      <td>cases</td>\n",
       "      <td>13</td>\n",
       "      <td>04-28</td>\n",
       "      <td>5.6</td>\n",
       "      <td>7.67</td>\n",
       "    </tr>\n",
       "    <tr>\n",
       "      <td>2</td>\n",
       "      <td>Non-Hispanic white</td>\n",
       "      <td>cases</td>\n",
       "      <td>39</td>\n",
       "      <td>04-28</td>\n",
       "      <td>72.7</td>\n",
       "      <td>23.01</td>\n",
       "    </tr>\n",
       "    <tr>\n",
       "      <td>3</td>\n",
       "      <td>Non-Hispanic other</td>\n",
       "      <td>cases</td>\n",
       "      <td>4</td>\n",
       "      <td>04-28</td>\n",
       "      <td>4.4</td>\n",
       "      <td>2.36</td>\n",
       "    </tr>\n",
       "    <tr>\n",
       "      <td>4</td>\n",
       "      <td>Hispanic/Latinx (any race)</td>\n",
       "      <td>hospitalizations</td>\n",
       "      <td>33</td>\n",
       "      <td>04-28</td>\n",
       "      <td>15.0</td>\n",
       "      <td>22.77</td>\n",
       "    </tr>\n",
       "    <tr>\n",
       "      <td>5</td>\n",
       "      <td>Non-Hispanic black/African American</td>\n",
       "      <td>hospitalizations</td>\n",
       "      <td>13</td>\n",
       "      <td>04-28</td>\n",
       "      <td>5.6</td>\n",
       "      <td>8.97</td>\n",
       "    </tr>\n",
       "    <tr>\n",
       "      <td>6</td>\n",
       "      <td>Non-Hispanic white</td>\n",
       "      <td>hospitalizations</td>\n",
       "      <td>50</td>\n",
       "      <td>04-28</td>\n",
       "      <td>72.7</td>\n",
       "      <td>34.50</td>\n",
       "    </tr>\n",
       "    <tr>\n",
       "      <td>7</td>\n",
       "      <td>Non-Hispanic other</td>\n",
       "      <td>hospitalizations</td>\n",
       "      <td>4</td>\n",
       "      <td>04-28</td>\n",
       "      <td>4.4</td>\n",
       "      <td>2.76</td>\n",
       "    </tr>\n",
       "    <tr>\n",
       "      <td>8</td>\n",
       "      <td>Hispanic/Latinx (any race)</td>\n",
       "      <td>fatalities</td>\n",
       "      <td>12</td>\n",
       "      <td>04-28</td>\n",
       "      <td>15.0</td>\n",
       "      <td>10.80</td>\n",
       "    </tr>\n",
       "    <tr>\n",
       "      <td>9</td>\n",
       "      <td>Non-Hispanic black/African American</td>\n",
       "      <td>fatalities</td>\n",
       "      <td>7</td>\n",
       "      <td>04-28</td>\n",
       "      <td>5.6</td>\n",
       "      <td>6.30</td>\n",
       "    </tr>\n",
       "    <tr>\n",
       "      <td>10</td>\n",
       "      <td>Non-Hispanic white</td>\n",
       "      <td>fatalities</td>\n",
       "      <td>80</td>\n",
       "      <td>04-28</td>\n",
       "      <td>72.7</td>\n",
       "      <td>72.00</td>\n",
       "    </tr>\n",
       "    <tr>\n",
       "      <td>11</td>\n",
       "      <td>Non-Hispanic other</td>\n",
       "      <td>fatalities</td>\n",
       "      <td>0</td>\n",
       "      <td>04-28</td>\n",
       "      <td>4.4</td>\n",
       "      <td>0.00</td>\n",
       "    </tr>\n",
       "  </tbody>\n",
       "</table>\n",
       "</div>"
      ],
      "text/plain": [
       "                                   Race            metric  percent   date  \\\n",
       "0            Hispanic/Latinx (any race)             cases       43  04-28   \n",
       "1   Non-Hispanic black/African American             cases       13  04-28   \n",
       "2                    Non-Hispanic white             cases       39  04-28   \n",
       "3                    Non-Hispanic other             cases        4  04-28   \n",
       "4            Hispanic/Latinx (any race)  hospitalizations       33  04-28   \n",
       "5   Non-Hispanic black/African American  hospitalizations       13  04-28   \n",
       "6                    Non-Hispanic white  hospitalizations       50  04-28   \n",
       "7                    Non-Hispanic other  hospitalizations        4  04-28   \n",
       "8            Hispanic/Latinx (any race)        fatalities       12  04-28   \n",
       "9   Non-Hispanic black/African American        fatalities        7  04-28   \n",
       "10                   Non-Hispanic white        fatalities       80  04-28   \n",
       "11                   Non-Hispanic other        fatalities        0  04-28   \n",
       "\n",
       "    race_population  adjusted  \n",
       "0              15.0     25.37  \n",
       "1               5.6      7.67  \n",
       "2              72.7     23.01  \n",
       "3               4.4      2.36  \n",
       "4              15.0     22.77  \n",
       "5               5.6      8.97  \n",
       "6              72.7     34.50  \n",
       "7               4.4      2.76  \n",
       "8              15.0     10.80  \n",
       "9               5.6      6.30  \n",
       "10             72.7     72.00  \n",
       "11              4.4      0.00  "
      ]
     },
     "execution_count": 129,
     "metadata": {},
     "output_type": "execute_result"
    }
   ],
   "source": [
    "df_covid_adjusted"
   ]
  },
  {
   "cell_type": "code",
   "execution_count": 130,
   "metadata": {},
   "outputs": [],
   "source": [
    "#wide"
   ]
  },
  {
   "cell_type": "code",
   "execution_count": 131,
   "metadata": {},
   "outputs": [],
   "source": [
    "df_covid_adjusted_pivoted = df_covid_cases_pivoted.append(df_covid_hosp_pivoted).append(df_covid_fat_pivoted)"
   ]
  },
  {
   "cell_type": "code",
   "execution_count": 132,
   "metadata": {},
   "outputs": [
    {
     "data": {
      "text/html": [
       "<div>\n",
       "<style scoped>\n",
       "    .dataframe tbody tr th:only-of-type {\n",
       "        vertical-align: middle;\n",
       "    }\n",
       "\n",
       "    .dataframe tbody tr th {\n",
       "        vertical-align: top;\n",
       "    }\n",
       "\n",
       "    .dataframe thead th {\n",
       "        text-align: right;\n",
       "    }\n",
       "</style>\n",
       "<table border=\"1\" class=\"dataframe\">\n",
       "  <thead>\n",
       "    <tr style=\"text-align: right;\">\n",
       "      <th>Race</th>\n",
       "      <th>Hispanic/Latinx (any race)</th>\n",
       "      <th>Non-Hispanic black/African American</th>\n",
       "      <th>Non-Hispanic other</th>\n",
       "      <th>Non-Hispanic white</th>\n",
       "      <th>unknown</th>\n",
       "    </tr>\n",
       "    <tr>\n",
       "      <th>metric</th>\n",
       "      <th></th>\n",
       "      <th></th>\n",
       "      <th></th>\n",
       "      <th></th>\n",
       "      <th></th>\n",
       "    </tr>\n",
       "  </thead>\n",
       "  <tbody>\n",
       "    <tr>\n",
       "      <td>cases</td>\n",
       "      <td>25.37</td>\n",
       "      <td>7.67</td>\n",
       "      <td>2.36</td>\n",
       "      <td>23.01</td>\n",
       "      <td>41</td>\n",
       "    </tr>\n",
       "    <tr>\n",
       "      <td>hospitalizations</td>\n",
       "      <td>22.77</td>\n",
       "      <td>8.97</td>\n",
       "      <td>2.76</td>\n",
       "      <td>34.50</td>\n",
       "      <td>31</td>\n",
       "    </tr>\n",
       "    <tr>\n",
       "      <td>fatalities</td>\n",
       "      <td>10.80</td>\n",
       "      <td>6.30</td>\n",
       "      <td>0.00</td>\n",
       "      <td>72.00</td>\n",
       "      <td>10</td>\n",
       "    </tr>\n",
       "  </tbody>\n",
       "</table>\n",
       "</div>"
      ],
      "text/plain": [
       "Race              Hispanic/Latinx (any race)  \\\n",
       "metric                                         \n",
       "cases                                  25.37   \n",
       "hospitalizations                       22.77   \n",
       "fatalities                             10.80   \n",
       "\n",
       "Race              Non-Hispanic black/African American  Non-Hispanic other  \\\n",
       "metric                                                                      \n",
       "cases                                            7.67                2.36   \n",
       "hospitalizations                                 8.97                2.76   \n",
       "fatalities                                       6.30                0.00   \n",
       "\n",
       "Race              Non-Hispanic white  unknown  \n",
       "metric                                         \n",
       "cases                          23.01       41  \n",
       "hospitalizations               34.50       31  \n",
       "fatalities                     72.00       10  "
      ]
     },
     "execution_count": 132,
     "metadata": {},
     "output_type": "execute_result"
    }
   ],
   "source": [
    "df_covid_adjusted_pivoted."
   ]
  },
  {
   "cell_type": "markdown",
   "metadata": {},
   "source": [
    "# How to visualize: the stacked bar chart"
   ]
  },
  {
   "cell_type": "markdown",
   "metadata": {},
   "source": [
    "Try using datawrapper.de! Copy the data below into the datawrapper chart field."
   ]
  },
  {
   "cell_type": "markdown",
   "metadata": {},
   "source": [
    "For this, you would use df_covid_adjusted_pivoted and a pivoted version of the population table, below."
   ]
  },
  {
   "cell_type": "code",
   "execution_count": 140,
   "metadata": {},
   "outputs": [],
   "source": [
    "df_ACS['State']='Rhode Island'"
   ]
  },
  {
   "cell_type": "code",
   "execution_count": 144,
   "metadata": {},
   "outputs": [],
   "source": [
    "df_ACS_pivoted = df_ACS.pivot(index='State', columns='race', values='percentage_total_population')"
   ]
  },
  {
   "cell_type": "code",
   "execution_count": null,
   "metadata": {},
   "outputs": [],
   "source": [
    "#Note: You probably want to use non_hispanic_other_without_two_or_more_races and non_hispanic_two_or_more_races | don't use ACS_non_hispanic_other_with_two_or_more_races "
   ]
  },
  {
   "cell_type": "code",
   "execution_count": 148,
   "metadata": {},
   "outputs": [
    {
     "data": {
      "text/html": [
       "<div>\n",
       "<style scoped>\n",
       "    .dataframe tbody tr th:only-of-type {\n",
       "        vertical-align: middle;\n",
       "    }\n",
       "\n",
       "    .dataframe tbody tr th {\n",
       "        vertical-align: top;\n",
       "    }\n",
       "\n",
       "    .dataframe thead th {\n",
       "        text-align: right;\n",
       "    }\n",
       "</style>\n",
       "<table border=\"1\" class=\"dataframe\">\n",
       "  <thead>\n",
       "    <tr style=\"text-align: right;\">\n",
       "      <th>race</th>\n",
       "      <th>ACS_hispanic</th>\n",
       "      <th>ACS_non_hispanic_black</th>\n",
       "      <th>ACS_non_hispanic_other_without_two_or_more_races</th>\n",
       "      <th>ACS_non_hispanic_two_or_more_races</th>\n",
       "      <th>ACS_non_hispanic_white</th>\n",
       "    </tr>\n",
       "    <tr>\n",
       "      <th>State</th>\n",
       "      <th></th>\n",
       "      <th></th>\n",
       "      <th></th>\n",
       "      <th></th>\n",
       "      <th></th>\n",
       "    </tr>\n",
       "  </thead>\n",
       "  <tbody>\n",
       "    <tr>\n",
       "      <td>Rhode Island</td>\n",
       "      <td>15.0</td>\n",
       "      <td>5.6</td>\n",
       "      <td>4.4</td>\n",
       "      <td>2.3</td>\n",
       "      <td>72.7</td>\n",
       "    </tr>\n",
       "  </tbody>\n",
       "</table>\n",
       "</div>"
      ],
      "text/plain": [
       "race          ACS_hispanic  ACS_non_hispanic_black  \\\n",
       "State                                                \n",
       "Rhode Island          15.0                     5.6   \n",
       "\n",
       "race          ACS_non_hispanic_other_without_two_or_more_races  \\\n",
       "State                                                            \n",
       "Rhode Island                                               4.4   \n",
       "\n",
       "race          ACS_non_hispanic_two_or_more_races  ACS_non_hispanic_white  \n",
       "State                                                                     \n",
       "Rhode Island                                 2.3                    72.7  "
      ]
     },
     "execution_count": 148,
     "metadata": {},
     "output_type": "execute_result"
    }
   ],
   "source": [
    "df_ACS_pivoted.drop(['ACS_non_hispanic_other_with_two_or_more_races'], axis=1)"
   ]
  },
  {
   "cell_type": "code",
   "execution_count": 152,
   "metadata": {},
   "outputs": [],
   "source": [
    "df_ACS_pivoted.drop(['ACS_non_hispanic_other_with_two_or_more_races'], axis=1).to_csv('df_ACS_pivoted.csv')"
   ]
  },
  {
   "cell_type": "code",
   "execution_count": 153,
   "metadata": {},
   "outputs": [],
   "source": [
    "df_covid_adjusted_pivoted.to_csv('df_covid_adjusted_pivoted.csv')"
   ]
  },
  {
   "cell_type": "markdown",
   "metadata": {},
   "source": [
    "Here's what the chart looks like!  https://datawrapper.dwcdn.net/MGlB4/"
   ]
  },
  {
   "cell_type": "markdown",
   "metadata": {},
   "source": [
    "# How to visualize: the bullet chart"
   ]
  },
  {
   "cell_type": "code",
   "execution_count": 151,
   "metadata": {},
   "outputs": [],
   "source": [
    "df_covid_adjusted.to_clipboard()"
   ]
  },
  {
   "cell_type": "code",
   "execution_count": 154,
   "metadata": {},
   "outputs": [],
   "source": [
    "df_covid_adjusted.to_csv('df_covid_adjusted.csv')"
   ]
  },
  {
   "cell_type": "markdown",
   "metadata": {},
   "source": [
    "The chart would look like this: https://datawrapper.dwcdn.net/FbqUr"
   ]
  }
 ],
 "metadata": {
  "kernelspec": {
   "display_name": "Python 3",
   "language": "python",
   "name": "python3"
  },
  "language_info": {
   "codemirror_mode": {
    "name": "ipython",
    "version": 3
   },
   "file_extension": ".py",
   "mimetype": "text/x-python",
   "name": "python",
   "nbconvert_exporter": "python",
   "pygments_lexer": "ipython3",
   "version": "3.7.5"
  }
 },
 "nbformat": 4,
 "nbformat_minor": 2
}
